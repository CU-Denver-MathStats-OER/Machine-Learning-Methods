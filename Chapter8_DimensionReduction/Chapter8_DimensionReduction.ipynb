{
 "cells": [
  {
   "cell_type": "markdown",
   "metadata": {
    "ein.tags": "worksheet-0",
    "slideshow": {
     "slide_type": "-"
    }
   },
   "source": [
    "# Dimension Reduction"
   ]
  },
  {
   "cell_type": "markdown",
   "metadata": {},
   "source": [
    "In an age of data explosion, we often see data in high dimensions. High-dimensional data can be very complex, making it challenging to analyze and interpret. As the number of dimensions increases, it becomes more difficult to recognize patterns and the performance of machine learning algorithms is seriously affected. This is the so-called **Curse of Dimensionality**. In addition, high-dimensional data is challenging for visualization. As a result, dimensionality reduction, which involves reducing the number of features while retaining as much relevant information as possible, is a crucial step in machine learning. We will introduce a few of them, including principal component analysis, incremental principal component analysis, and kernel principal component analysis. "
   ]
  },
  {
   "cell_type": "markdown",
   "metadata": {},
   "source": [
    "## Principal Component Analysis (PCA)"
   ]
  },
  {
   "cell_type": "markdown",
   "metadata": {},
   "source": [
    "Principal component analysis (PCA) transforms data of a higher dimension to a new coordinate system with a lower dimension. During the transformation, the variance of the data, which can be considered as the information the data contain, is conserved as much as possible. The core of the algorithm is an eigendecomposition of the covariance matrix constructed with the mean-removed/centered data, leading to a set of eigenvectors, called **principal components**, and eigenvalues, which provides important information on the dimension of the reduced coordinates.\n",
    "\n",
    "Suppose we have a set of data points/observations $\\{\\boldsymbol{x}_1, \\boldsymbol{x}_2, \\dots, \\boldsymbol{x}_N\\}$, and each data point is $d$-dimensional, i.e., $\\boldsymbol{x}_i=(x_i^1, x_i^2, \\dots, x_i^d)^T $. Combining all the data points into a data matrix $X$, \n",
    "\n",
    "\\begin{equation*}\n",
    "X = \n",
    "\\begin{bmatrix}\n",
    "x_1^1 & x_1^2 & \\dots & x_1^d \\\\\n",
    "x_2^1 & x_2^2 & \\dots & x_2^d \\\\\n",
    "\\vdots & \\vdots & \\vdots & \\vdots \\\\\n",
    "x_N^1 & x_N^2 & \\dots & x_N^d\n",
    "\\end{bmatrix}\n",
    "=\n",
    "\\begin{bmatrix}\n",
    "\\boldsymbol{x}_1^T \\\\\n",
    "\\boldsymbol{x}_2^T \\\\\n",
    "\\vdots \\\\\n",
    "\\boldsymbol{x}_N^T\n",
    "\\end{bmatrix}\n",
    "\\end{equation*}\n",
    "\n",
    "Compute the mean of each feature, $\\bar{x}^i = \\frac{1}{N}\\sum_{j=1}^Nx_{j}^i$, $1\\le i\\le d$. Subtracting the mean feature from each feature in the data matrix $X$, i.e. each $x_{i}^j$ element in $X$ is replaced by $x_i^j-\\bar{x}^j$, we obtain the centered data matrix $X_c$. The covariance matrix of $X_c$ can be computed as \n",
    "\n",
    "\\begin{equation*}\n",
    "C = \\frac{1}{N}X_c^T X_c\n",
    "\\end{equation*}\n",
    "\n",
    "Performing an eigenvalue decomposition on the covariance matrix, we obtain a set of eigenvalues $\\{\\lambda_1,\\dots,\\lambda_d\\}$, and a set of $d$-dimensional normalized (unit) eigenvectors $\\{\\boldsymbol{u}_1, \\boldsymbol{u}_2, \\dots, \\boldsymbol{u}_d\\}$. The eigenvectors are called principal components. These are the directions in the $d$-dimensional space the original data points $\\boldsymbol{x}_i$'s will be projected to in order to get a new set of coordinates. Supposing we only keep a small set of the eigenvalues, $\\{\\lambda_1,\\dots,\\lambda_m\\}$, and eigenvectors, $\\{\\boldsymbol{u}_1, \\boldsymbol{u}_2, \\dots, \\boldsymbol{u}_m\\}$, $m\\ll d$, then the projected data will have a much smaller dimension $m$. Let $X_r$ be the dimension-reduced data. Then\n",
    "\n",
    "\\begin{equation*}\n",
    "X = \n",
    "\\begin{bmatrix}\n",
    "\\boldsymbol{x}_1^T\\boldsymbol{u}_1 & \\boldsymbol{x}_1^T\\boldsymbol{u}_2 & \\dots & \\boldsymbol{x}_1^T\\boldsymbol{u}_m \\\\\n",
    "\\boldsymbol{x}_2^T\\boldsymbol{u}_1 & \\boldsymbol{x}_2^T\\boldsymbol{u}_2 & \\dots & \\boldsymbol{x}_2^T\\boldsymbol{u}_m \\\\\n",
    "\\vdots & \\vdots & \\vdots & \\vdots \\\\\n",
    "\\boldsymbol{x}_N^T\\boldsymbol{u}_1 & \\boldsymbol{x}_N^T\\boldsymbol{u}_2 & \\dots & \\boldsymbol{x}_N^T\\boldsymbol{u}_m \\\\\n",
    "\\end{bmatrix}\n",
    "\\end{equation*}\n",
    "\n",
    "Now we will see why the algorithm works, i.e. why the algorithm guarantees that the maximum variance is retained for any chosen $m$, $1\\le m\\le d$. "
   ]
  },
  {
   "cell_type": "markdown",
   "metadata": {},
   "source": [
    "Let $\\boldsymbol{v}_1$ be a unit vector in the $d$-dimensional space, and it is the vector such that when all the data points are projected to it, the resulting 1-dimensional transformed data points has the largest variance. We want to show $\\boldsymbol{v}_1=\\boldsymbol{u}_1$, the normalized eigenvector of $C$ corresponding to the largest eigenvalue. To see this, we can compute the mean of the transformed (reduced) data points by:\n",
    "\n",
    "\\begin{equation*}\n",
    "\\frac{1}{N}\\sum_{i=1}^N \\boldsymbol{v}_1^T\\boldsymbol{x}_i = \\boldsymbol{v}_1^T\\frac{1}{N}\\sum_{i=1}^N \\boldsymbol{x}_i = \\boldsymbol{v}_1^T\\bar{\\boldsymbol{x}}\n",
    "\\end{equation*}\n",
    "\n",
    "where $\\bar{\\boldsymbol{x}}$ is the mean vector of all the data points (row mean of data matrix $X$). Based on the mean, we can compute the variance of the reduced coordinates as (see Exercise 8-1):\n",
    "\n",
    "\\begin{equation*}\n",
    "\\frac{1}{N}\\sum_{i=1}^N (\\boldsymbol{v}_1^T\\boldsymbol{x}_i - \\boldsymbol{v}_1^T\\bar{\\boldsymbol{x}})^2 = \\boldsymbol{v}_1^TC\\boldsymbol{v}_1\n",
    "\\end{equation*}\n",
    "\n",
    "where $C$ is the data covariance matrix defined before\n",
    "\n",
    "\\begin{equation*}\n",
    "C = \\frac{1}{N}X_c^T X_c = \\frac{1}{N}\\sum_{i=1}^N (\\boldsymbol{x}_i-\\bar{\\boldsymbol{x}}) (\\boldsymbol{x}_i-\\bar{\\boldsymbol{x}})^T\n",
    "\\end{equation*}\n",
    "\n",
    "Our goal is to maximize $\\boldsymbol{v}_1^TC\\boldsymbol{v}_1$, with the constraint that $\\boldsymbol{v}_1^T\\boldsymbol{v}_1=1$. Using Lagrange multiplier, we can obtain the following equivalent problem:\n",
    "\n",
    "\\begin{equation*}\n",
    "\\text{arg}\\max_{\\boldsymbol{v}_1} \\,\\,\\boldsymbol{v}_1^TC\\boldsymbol{v}_1 + \\lambda (1-\\boldsymbol{v}_1^T\\boldsymbol{v}_1)\n",
    "\\end{equation*}\n",
    "\n",
    "Taking derivative with respect to $\\boldsymbol{v}_1$ and setting it to $0$ lead to\n",
    "\n",
    "\\begin{equation*}\n",
    "C\\boldsymbol{v}_1 = \\lambda \\boldsymbol{v}_1,\n",
    "\\end{equation*}\n",
    "\n",
    "which shows that $\\boldsymbol{v}_1$ is an eigenvector of $C$ corresponding to the eigenvalue $\\lambda$. Left multiplying both sides of the previous equation by $\\boldsymbol{v}_1^T$, we have\n",
    "\n",
    "\\begin{equation*}\n",
    "\\boldsymbol{v}_1^TC\\boldsymbol{v}_1 = \\lambda\n",
    "\\end{equation*}\n",
    "\n",
    "Since $\\boldsymbol{v}_1^TC\\boldsymbol{v}_1$ is the largest, $\\lambda$ must be equal to $\\lambda_1$, the largest eigenvalue of $C$. Therefore, we have $\\boldsymbol{v}_1=\\boldsymbol{u}_1$, the eigenvector corresponding to the largest eigenvalue, also called the first principal component. \n",
    "\n",
    "Using a mathematical induction, we can show the variance of the $m$-dimensional projected data points is the largest when we use the first $m$ eigenvectors corresponding to the largest $m$ eigenvalues of $C$. "
   ]
  },
  {
   "cell_type": "markdown",
   "metadata": {},
   "source": []
  },
  {
   "cell_type": "markdown",
   "metadata": {},
   "source": [
    "**Exercise 8-1**\n",
    "\n",
    "Show the variance can be computed by\n",
    "\n",
    "\\begin{equation*}\n",
    "\\frac{1}{N}\\sum_{i=1}^N (\\boldsymbol{v}_1^T\\boldsymbol{x}_i - \\boldsymbol{v}_1^T\\bar{\\boldsymbol{x}})^2 = \\boldsymbol{v}_1^TC\\boldsymbol{v}_1\n",
    "\\end{equation*}"
   ]
  },
  {
   "cell_type": "markdown",
   "metadata": {},
   "source": [
    "**Example 8-1**\n",
    "\n",
    "We consider a simple 2D data that can be transformed to 1D without losing much variance. We use Python to transform the data and show how sklearn can be used to perform PCA."
   ]
  },
  {
   "cell_type": "code",
   "execution_count": null,
   "metadata": {},
   "outputs": [],
   "source": [
    "import numpy as np\n",
    "import matplotlib.pyplot as plt\n",
    "from sklearn.decomposition import PCA\n",
    "\n",
    "# Synthetic 2D data that is very linear\n",
    "X = np.array([[2.5, 2.4],\n",
    "              [0.5, 0.7],\n",
    "              [2.2, 2.9],\n",
    "              [1.9, 2.2],\n",
    "              [3.1, 3.0],\n",
    "              [2.3, 2.7],\n",
    "              [2, 1.6],\n",
    "              [1, 1.1],\n",
    "              [1.5, 1.6],\n",
    "              [1.1, 0.9]])\n",
    "\n",
    "# mean removal\n",
    "X_c = X - np.mean(X, axis=0)\n",
    "\n",
    "# Perform PCA, m=1, i.e. only use the first principal component\n",
    "pca = PCA(n_components=1)\n",
    "X_r = pca.fit_transform(X_c)\n",
    "\n",
    "# Explained variance, i.e. \\lambda_1/(\\lambda_1+\\lambda_2)\n",
    "# This is also the proportion of variance that is retained.\n",
    "explained_variance = pca.explained_variance_ratio_\n",
    "\n",
    "# This is the first principal component\n",
    "print(\"Principal Components:\\n\", pca.components_)\n",
    "print(\"Explained Variance Ratio:\", explained_variance)\n",
    "\n",
    "# Plot original and reduced data\n",
    "plt.scatter(X_c[:, 0], X_c[:, 1], color='blue', label='Original Data')\n",
    "plt.scatter(X_r[:, 0], np.zeros(X_r.shape), color='red', label='Reduced Data')\n",
    "# Plot an arrow that shows the principal component direction\n",
    "plt.annotate('', xy=pca.components_[0], xytext=(0,0),\n",
    "             arrowprops=dict(facecolor='black', arrowstyle='->'))\n",
    "plt.text(-0.25, -0.5, '1st PC', fontsize=12, color='k')\n",
    "\n",
    "plt.legend()\n",
    "plt.show()"
   ]
  },
  {
   "cell_type": "markdown",
   "metadata": {},
   "source": [
    "**Example 8-2**\n",
    "\n",
    "Visualize the iris dataset after transforming the data to 2D using PCA."
   ]
  },
  {
   "cell_type": "code",
   "execution_count": null,
   "metadata": {},
   "outputs": [],
   "source": [
    "from sklearn.datasets import load_iris\n",
    "\n",
    "# Load the Iris dataset\n",
    "iris = load_iris()\n",
    "X = iris.data  # 4D features\n",
    "y = iris.target\n",
    "\n",
    "# Perform PCA to reduce the data from 4D to 2D\n",
    "pca = PCA(n_components=2)\n",
    "X_r = pca.fit_transform(X)\n",
    "\n",
    "scatter = plt.scatter(X_r[:, 0], X_r[:, 1], c=y)\n",
    "# Create a custom legend\n",
    "handles, labels = scatter.legend_elements(prop=\"colors\")\n",
    "legend_labels = ['Setosa', 'Versicolor', 'Virginica']\n",
    "plt.legend(handles, legend_labels, title=\"Classes\");"
   ]
  },
  {
   "cell_type": "markdown",
   "metadata": {},
   "source": [
    "## Choosing $m$"
   ]
  },
  {
   "cell_type": "markdown",
   "metadata": {},
   "source": [
    "A common way to guide the choice of $m$ is to use the \"*cumulative explained variance ratio*\". Suppose $\\tilde{m}$ principal components are used (hence the reduced data has dimension $\\tilde{m}$), then the cumulative explained variance ratio is defined as the sum of the first $\\tilde{m}$ largest eigenvalues divided by the sum of all the eigenvalues. This is an indicator of what percentage of variance is retained after transforming the data to a smaller dimension. For a preset threshold, say 90\\%, we will choose the number of components where the cumulative explained variance ratio first reaches the threshold to be $m$.\n",
    "\n",
    "We go back to the previous iris data set example to illustrate the process."
   ]
  },
  {
   "cell_type": "code",
   "execution_count": null,
   "metadata": {},
   "outputs": [],
   "source": [
    "# Still for the Iris dataset\n",
    "# Here we build a PCA without specifying the number of components\n",
    "# The covariance matrix will be 4 by 4 now\n",
    "# there will be 4 principal components, and hence 4 eigenvalues\n",
    "pca = PCA()\n",
    "pca.fit(X)\n",
    "# Show the eigenvalues of the covariance matrix\n",
    "print('The eigenvalues are: ', pca.explained_variance_)"
   ]
  },
  {
   "cell_type": "code",
   "execution_count": null,
   "metadata": {},
   "outputs": [],
   "source": [
    "# Plot the spectrum of the covariance matrix\n",
    "plt.plot(pca.explained_variance_, 'bo-')\n",
    "plt.xlabel('Principal component number')\n",
    "plt.ylabel('Eigenvalues')\n",
    "plt.title('The spectrum of the covariance matrix');"
   ]
  },
  {
   "cell_type": "code",
   "execution_count": null,
   "metadata": {},
   "outputs": [],
   "source": [
    "cumsum = np.cumsum(pca.explained_variance_ratio_)\n",
    "print('Cumulative explained variance ratios are: ', cumsum)"
   ]
  },
  {
   "cell_type": "code",
   "execution_count": null,
   "metadata": {},
   "outputs": [],
   "source": [
    "# Plot the cumulative explained variance ratio\n",
    "plt.plot(cumsum, 'rx-')\n",
    "plt.xlabel('Principal component number')\n",
    "plt.ylabel('Cum sum')\n",
    "plt.title('The cumulative sum of exp var ratio');"
   ]
  },
  {
   "cell_type": "markdown",
   "metadata": {},
   "source": [
    "For example, if our threshold is chosen to be $95\\%$, we would need $m=2$, i.e., when the 4D data points are transformed to 2D with PCA, less than $5\\%$ of the variance is lost. The following line of code will do this automatically:"
   ]
  },
  {
   "cell_type": "code",
   "execution_count": null,
   "metadata": {},
   "outputs": [],
   "source": [
    "d = np.argmax(cumsum >= 0.95) + 1\n",
    "print('To retain at least 95% of variance, m should be ', d)"
   ]
  },
  {
   "cell_type": "markdown",
   "metadata": {},
   "source": [
    "**Example 8-3**\n",
    "\n",
    "We consider an application of PCA to the MNIST dataset."
   ]
  },
  {
   "cell_type": "code",
   "execution_count": null,
   "metadata": {},
   "outputs": [],
   "source": [
    "from sklearn.datasets import fetch_openml\n",
    "\n",
    "\n",
    "# Load the MNIST dataset\n",
    "mnist = fetch_openml('mnist_784', version=1, as_frame=False)\n",
    "# Feature matrix:\n",
    "X = mnist['data']\n",
    "# Target vector:\n",
    "y = mnist['target']\n",
    "\n",
    "print('The shape of X is: ', X.shape)\n",
    "print('The shape of y is: ', y.shape)"
   ]
  },
  {
   "cell_type": "code",
   "execution_count": null,
   "metadata": {},
   "outputs": [],
   "source": [
    "# Perform PCA and determine the m that gives us at least 95% variance\n",
    "pca = PCA()\n",
    "pca.fit(X)\n",
    "cumsum = np.cumsum(pca.explained_variance_ratio_)\n",
    "d = np.argmax(cumsum >= 0.95) + 1\n",
    "print('To retain at least 95% of variance, m should be ', d)"
   ]
  },
  {
   "cell_type": "code",
   "execution_count": null,
   "metadata": {},
   "outputs": [],
   "source": [
    "plt.figure(figsize=(12, 6))\n",
    "plt.subplot(1,2,1)\n",
    "# Plot the spectrum of the covariance matrix\n",
    "plt.plot(pca.explained_variance_, 'bo-')\n",
    "plt.xlabel('Principal component number')\n",
    "plt.ylabel('Eigenvalues')\n",
    "plt.title('The spectrum of the covariance matrix');\n",
    "plt.subplot(1,2,2)\n",
    "# Plot the cumulative sum of the explained variance ratio\n",
    "plt.plot(cumsum, 'rx-')\n",
    "plt.xlabel('Principal component number')\n",
    "plt.ylabel('Cum sum')\n",
    "plt.title('The cumulative sum of exp var ratio');"
   ]
  },
  {
   "cell_type": "code",
   "execution_count": null,
   "metadata": {},
   "outputs": [],
   "source": [
    "# First compress the data to 154 dimensions\n",
    "pca = PCA(n_components=154)\n",
    "X_reduced = pca.fit_transform(X)\n",
    "# Reconstruct the data back to 784 dimension.\n",
    "X_recovered = pca.inverse_transform(X_reduced)\n",
    "print('Shape of the reconstructed data: ', X_recovered.shape)"
   ]
  },
  {
   "cell_type": "code",
   "execution_count": null,
   "metadata": {},
   "outputs": [],
   "source": [
    "import matplotlib as mpl\n",
    "\n",
    "# Take an arbitray instance of the original data for plotting\n",
    "plt.subplot(1,2,1)\n",
    "digit = X[300, :]\n",
    "digit_image = digit.reshape(28,28)\n",
    "plt.imshow(digit_image, cmap = mpl.cm.binary);\n",
    "\n",
    "# Take an arbitray instance of the recovered data for plotting\n",
    "plt.subplot(1,2,2)\n",
    "digit = X_recovered[300, :]\n",
    "digit_image = digit.reshape(28,28)\n",
    "plt.imshow(digit_image, cmap = mpl.cm.binary);"
   ]
  },
  {
   "cell_type": "markdown",
   "metadata": {
    "vscode": {
     "languageId": "latex"
    }
   },
   "source": [
    "The two figures, original and reconstructed, are very similar."
   ]
  },
  {
   "cell_type": "markdown",
   "metadata": {},
   "source": [
    "## Incremental Principal Component Analysis (IPCA)"
   ]
  },
  {
   "cell_type": "markdown",
   "metadata": {},
   "source": [
    "When a dataset is large, PCA can be very inefficient, due to the fact that the algorithm requires that all data have to be used at once. In some cases, data come in batches, and we would like the algorithm can handle incremental data, instead of repeating the training on all the data that are currently available. Incremental Principal Component Analysis (IPCA) is a variant of PCA that can handle data in smaller chunks. To achieve this, IPCA iteratively updates the data mean, covariance matrix, and the eigenvalues and eigenvectors through an incremental singular value decomposition (SVD) procedure, as new data arrive. \n",
    "\n",
    "We use the following example to illustrate how IPCA can be implemented in Python"
   ]
  },
  {
   "cell_type": "markdown",
   "metadata": {},
   "source": [
    "**Example 8-4**\n",
    "\n",
    "Revisit the MNIST data using IPCA."
   ]
  },
  {
   "cell_type": "code",
   "execution_count": null,
   "metadata": {},
   "outputs": [],
   "source": [
    "from sklearn.decomposition import IncrementalPCA\n",
    "\n",
    "# Load the MNIST dataset\n",
    "mnist = fetch_openml('mnist_784', version=1, as_frame=False)\n",
    "# Feature matrix:\n",
    "X = mnist['data']\n",
    "\n",
    "# Define the number of principal components\n",
    "n_components = 50\n",
    "\n",
    "# Initialize IncrementalPCA\n",
    "ipca = IncrementalPCA(n_components=n_components)\n",
    "\n",
    "# Simulate batch processing\n",
    "batch_size = 1000\n",
    "n_batches = X.shape[0] // batch_size\n",
    "\n",
    "# Process data in batches\n",
    "for batch_idx in range(n_batches):\n",
    "    X_batch = X[batch_idx * batch_size:(batch_idx + 1) * batch_size]\n",
    "    ipca.partial_fit(X_batch)\n",
    "\n",
    "# Transform the data using the fitted IncrementalPCA\n",
    "X_ipca = ipca.transform(X)\n",
    "\n",
    "# Print the cumulative explained variance ratio\n",
    "print(f'Cumulative explained variance ratio by component: {np.cumsum(ipca.explained_variance_ratio_)}')"
   ]
  },
  {
   "cell_type": "markdown",
   "metadata": {},
   "source": [
    "## Kernel Principal Component Analysis (KPCA)"
   ]
  },
  {
   "cell_type": "markdown",
   "metadata": {},
   "source": [
    "PCA is effective for data whose features show a linear relationship. For a high-dimensional non-linear feature space (think about spirals or concentric circles), PCA may not perform well ($m$ could be close to $d$). For non-linear feature space, we may use the idea illustrated in the discussion of kernelized SVM, where we use kernels to implicitly project linearly inseparable data to a higher-dimensional (can be infinitely dimensional) space where they become linearly separable. Similarly, we can borrow the idea and use a kernel to implicitly project a nonlinear feature space to a higher-dimensional one, which hopefully are more linear. We now introduce the main mathematics behind KPCA, which is very similar to that of PCA."
   ]
  },
  {
   "cell_type": "markdown",
   "metadata": {},
   "source": [
    "Suppose the implicitly defined mapping from the original feature space ($d$-dimensional) to a higher-dimensional ($D$-dimensional, $d\\ll D$) one is $\\boldsymbol{\\phi}(\\boldsymbol{x})$. Then in the higher-dimensional space, the data points become $\\{\\boldsymbol{\\phi}(\\boldsymbol{x}_1), \\boldsymbol{\\phi}(\\boldsymbol{x}_2), \\dots, \\boldsymbol{\\phi}(\\boldsymbol{x}_N)\\}$. We will then build a data matrix each row of which represents a data points, and then build a covariance matrix $C$ (assuming the features have a mean of $0$ for now):\n",
    "\n",
    "\\begin{equation*}\n",
    "C = \\frac{1}{N} \\sum_{i=1}^N \\boldsymbol{\\phi}(\\boldsymbol{x}_i) \\boldsymbol{\\phi}(\\boldsymbol{x}_i)^T\n",
    "\\end{equation*}\n",
    "\n",
    "Based on the covariance matrix, we find its eigendecomposition:\n",
    "\n",
    "\\begin{equation*}\n",
    "C \\boldsymbol{v}_i = \\lambda_i\\boldsymbol{v}_i\n",
    "\\end{equation*}\n",
    "\n",
    "If we directly work in the $D$-dimensional feature space, this will be computationally intractable. We will find a way to use the kernel, which computes the inner product in the higher-dimensional space by working in the original space. Note that the previous equation can be rewritten as\n",
    "\n",
    "\\begin{equation*}\n",
    "\\frac{1}{N} \\sum_{i=1}^N \\boldsymbol{\\phi}(\\boldsymbol{x}_i) \\left(\\boldsymbol{\\phi}(\\boldsymbol{x}_i)^T \\boldsymbol{v}_i\\right) =  \\lambda_i\\boldsymbol{v}_i\n",
    "\\end{equation*}\n",
    "by a substitution of $C$. if $\\lambda_i>0$ for all $i$, then we can write the eigenvectors as a linear combination of the features:\n",
    "\n",
    "\\begin{equation*}\n",
    "\\boldsymbol{v}_i = \\sum_{n=1}^N a_{in} \\boldsymbol{\\phi}(\\boldsymbol{x}_n)\n",
    "\\end{equation*}\n",
    "\n",
    "Plugging the linear combination back into the eigendecomposition equation above, and after some manipulation (see Exercise 8-2), we have\n",
    "\n",
    "\\begin{equation*}\n",
    "\\frac{1}{N} \\sum_{n=1}^N k(\\boldsymbol{x}_l, \\boldsymbol{x}_n) \\sum_{m=1}^N a_{im} k(\\boldsymbol{x}_n, \\boldsymbol{x}_m) = \\lambda_i \\sum_{n=1}^N a_{in} k(\\boldsymbol{x}_l, \\boldsymbol{x}_n)\n",
    "\\end{equation*}\n",
    "\n",
    "where $k$ is the kernel function. In matrix notation, this can be written as (see Exercise 8-3)\n",
    "\n",
    "\\begin{equation*}\n",
    "K^2\\boldsymbol{a}_i = \\lambda_i N K \\boldsymbol{a}_i\n",
    "\\end{equation*}\n",
    "where $\\boldsymbol{a}_i = (a_{i1}, a_{i2}, \\dots, a_{iN})$ and $K$ is the kernel matrix. The solutions of which can be obtained by solving\n",
    "\n",
    "\\begin{equation*}\n",
    "K\\boldsymbol{a}_i = \\lambda_i N \\boldsymbol{a}_i\n",
    "\\end{equation*}\n",
    "\n",
    "(The solutions are not exactly the same, but they are the same corresponding to non-zero eigenvalues, which is enough). Here, we have a different normalization condition for $\\boldsymbol{a}_i$ (not $\\boldsymbol{a}_i^T\\boldsymbol{a}_i=1$). Note that\n",
    "\n",
    "\\begin{equation*}\n",
    "\\lambda_i N \\boldsymbol{a}_i^T\\boldsymbol{a}_i = \\boldsymbol{a}_i^T \\lambda_i N \\boldsymbol{a}_i = \\boldsymbol{a}_i^TK\\boldsymbol{a}_i = \\sum_{n=1}^N\\sum_{m=1}^N a_{in}a_{im} \\boldsymbol{\\phi}(\\boldsymbol{x}_n)^T\\boldsymbol{\\phi}(\\boldsymbol{x}_m) = \\boldsymbol{v}_i^T\\boldsymbol{v}_i = 1\n",
    "\\end{equation*}\n",
    "Hence we have the normalization condition for $\\boldsymbol{a}_i$:\n",
    "\n",
    "\\begin{equation*}\n",
    "\\boldsymbol{a}_i^T\\boldsymbol{a}_i = \\frac{1}{\\lambda_i N}\n",
    "\\end{equation*}\n",
    "\n",
    "We can then project the original data $\\boldsymbol{x}_i$ onto the principal components in the higher-dimensional feature space to obtain the reduced-dimensional representation by:\n",
    "\n",
    "\\begin{equation*}\n",
    "y_i = \\boldsymbol{\\phi}(\\boldsymbol{x})^T\\boldsymbol{v}_i = \\sum_{j=1}^Na_{ij} \\boldsymbol{\\phi}(\\boldsymbol{x})^T\\boldsymbol{\\phi}(\\boldsymbol{x}_j) = \\sum_{j=1}^N a_{ij}k(\\boldsymbol{x}, \\boldsymbol{x}_j) \\quad 1\\le i\\le N\n",
    "\\end{equation*}\n"
   ]
  },
  {
   "cell_type": "markdown",
   "metadata": {},
   "source": [
    "In the above discussion, we assumed the projected features have zero means, which is not the case in general. To take this into account, let $\\bar{\\boldsymbol{\\phi}}(\\boldsymbol{x}_i)$ be the mean-removed feature, which is obtained by\n",
    "\n",
    "\\begin{equation*}\n",
    "\\boldsymbol{\\phi}(\\boldsymbol{x}_i) = \\boldsymbol{\\phi}(\\boldsymbol{x}_i) - \\frac{1}{N}\\sum_{j=1}^N\\boldsymbol{\\phi}(\\boldsymbol{x}_j)\n",
    "\\end{equation*}\n",
    "\n",
    "Then the entries of the kernel matrix $\\bar{K}$ is calculated by\n",
    "\n",
    "\\begin{equation*}\n",
    "\\bar{K}_{ij} = \\bar{\\boldsymbol{\\phi}}(\\boldsymbol{x}_i)^T\\bar{\\boldsymbol{\\phi}}(\\boldsymbol{x}_j)\n",
    "\\end{equation*}\n",
    "\n",
    "After some algebra, it can shown that (see Exercise 8-4)\n",
    "\n",
    "\\begin{equation*}\n",
    "\\bar{K} = K -\\boldsymbol{1}_N K - K \\boldsymbol{1}_N + \\boldsymbol{1}_N K \\boldsymbol{1}_N\n",
    "\\end{equation*}\n",
    "where $\\boldsymbol{1}_N$ is a $N\\times N$ matrix whose entries are all $1/N$"
   ]
  },
  {
   "cell_type": "markdown",
   "metadata": {},
   "source": [
    "**Exercise 8-2**\n",
    "\n",
    "Derive the equation\n",
    "\n",
    "\\begin{equation*}\n",
    "\\frac{1}{N} \\sum_{n=1}^N k(\\boldsymbol{x}_l, \\boldsymbol{x}_n) \\sum_{m=1}^N a_{im} k(\\boldsymbol{x}_n, \\boldsymbol{x}_m) = \\lambda_i \\sum_{n=1}^N a_{in} k(\\boldsymbol{x}_l, \\boldsymbol{x}_n)\n",
    "\\end{equation*}"
   ]
  },
  {
   "cell_type": "markdown",
   "metadata": {},
   "source": [
    "**Exercise 8-3**\n",
    "\n",
    "Show the covariance matrix in the higher dimension can be written as\n",
    "\n",
    "\\begin{equation*}\n",
    "C^2\\boldsymbol{a}_i = \\lambda_i N C \\boldsymbol{a}_i\n",
    "\\end{equation*}"
   ]
  },
  {
   "cell_type": "markdown",
   "metadata": {},
   "source": [
    "**Example 8-5**\n",
    "\n",
    "Perform KPCA on the concentric circles data."
   ]
  },
  {
   "cell_type": "code",
   "execution_count": null,
   "metadata": {},
   "outputs": [],
   "source": [
    "from sklearn.decomposition import KernelPCA\n",
    "from sklearn.datasets import make_circles\n",
    "\n",
    "# Generate non-linear data (e.g., concentric circles)\n",
    "X, y = make_circles(n_samples=400, factor=0.3, noise=0.05, random_state=32)\n",
    "\n",
    "# Plot the circle\n",
    "plt.scatter(X[y == 0, 0], X[y == 0, 1], color='red', label='Class 1')\n",
    "plt.scatter(X[y == 1, 0], X[y == 1, 1], color='blue', label='Class 2')\n",
    "plt.title('Original Circle data')\n",
    "plt.xlabel('$x_1$')\n",
    "plt.ylabel('$x_2$')\n",
    "plt.legend()\n",
    "plt.show()\n"
   ]
  },
  {
   "cell_type": "code",
   "execution_count": null,
   "metadata": {},
   "outputs": [],
   "source": [
    "# Perform Kernel PCA\n",
    "kpca = KernelPCA(n_components=2, kernel='rbf', gamma=15)\n",
    "X_kpca = kpca.fit_transform(X)\n",
    "\n",
    "# Plot the results\n",
    "plt.figure(figsize=(8, 6))\n",
    "plt.scatter(X_kpca[y == 0, 0], X_kpca[y == 0, 1], color='red', label='Class 1')\n",
    "plt.scatter(X_kpca[y == 1, 0], X_kpca[y == 1, 1], color='blue', label='Class 2')\n",
    "plt.title('Kernel PCA with RBF Kernel')\n",
    "plt.xlabel('Principal Component 1')\n",
    "plt.ylabel('Principal Component 2')\n",
    "plt.legend()\n",
    "plt.show()"
   ]
  },
  {
   "cell_type": "markdown",
   "metadata": {},
   "source": [
    "If we perform PCA on the concentric circle data, what will happen?"
   ]
  },
  {
   "cell_type": "code",
   "execution_count": null,
   "metadata": {},
   "outputs": [],
   "source": [
    "# Perform PCA with two components\n",
    "pca = PCA(n_components=2)\n",
    "X_pca = pca.fit_transform(X)\n",
    "\n",
    "# Plot the results\n",
    "plt.figure(figsize=(8, 6))\n",
    "plt.scatter(X_pca[y == 0, 0], X_pca[y == 0, 1], color='red', label='Class 1')\n",
    "plt.scatter(X_pca[y == 1, 0], X_pca[y == 1, 1], color='blue', label='Class 2')\n",
    "plt.title('PCA ')\n",
    "plt.xlabel('Principal Component 1')\n",
    "plt.ylabel('Principal Component 2')\n",
    "plt.legend()\n",
    "plt.show()"
   ]
  },
  {
   "cell_type": "markdown",
   "metadata": {},
   "source": [
    "The shape of the new coordinates are very similar to the original ones."
   ]
  },
  {
   "cell_type": "markdown",
   "metadata": {},
   "source": [
    "**Example 8-6**\n",
    "\n",
    "Perform KPCA for the iris dataset to reduce the dimensions of the feature space to $2$."
   ]
  },
  {
   "cell_type": "code",
   "execution_count": null,
   "metadata": {},
   "outputs": [],
   "source": [
    "from sklearn.preprocessing import StandardScaler\n",
    "\n",
    "\n",
    "# Load the Iris dataset\n",
    "iris = load_iris()\n",
    "X = iris.data\n",
    "y = iris.target\n",
    "target_names = iris.target_names\n",
    "\n",
    "# Standardize the data\n",
    "scaler = StandardScaler()\n",
    "X_scaled = scaler.fit_transform(X)\n",
    "\n",
    "# Apply Kernel PCA with RBF kernel\n",
    "kpca = KernelPCA(n_components=2, kernel='rbf', gamma=0.1)\n",
    "X_kpca = kpca.fit_transform(X_scaled)\n",
    "\n",
    "# Plot the results of Kernel PCA\n",
    "plt.figure(figsize=(8, 6))\n",
    "scatter = plt.scatter(X_kpca[:, 0], X_kpca[:, 1], c=y)\n",
    "# Create a custom legend\n",
    "handles, labels = scatter.legend_elements(prop=\"colors\")\n",
    "legend_labels = ['Setosa', 'Versicolor', 'Virginica']\n",
    "plt.legend(handles, legend_labels, title=\"Classes\");\n",
    "plt.title('Kernel PCA on Iris Dataset (RBF Kernel)')\n",
    "plt.xlabel('Principal Component 1')\n",
    "plt.ylabel('Principal Component 2')\n",
    "plt.show()"
   ]
  },
  {
   "cell_type": "markdown",
   "metadata": {},
   "source": [
    "**Example 8-7**\n",
    "\n",
    "Apply and compare PCA and KPCA applied to the Swiss Roll Dataset."
   ]
  },
  {
   "cell_type": "code",
   "execution_count": null,
   "metadata": {},
   "outputs": [],
   "source": [
    "from sklearn.datasets import make_swiss_roll\n",
    "\n",
    "# Generate the Swiss roll dataset\n",
    "X, color = make_swiss_roll(n_samples=1000, noise=0.2, random_state=24)\n",
    "\n",
    "# Apply standard PCA\n",
    "pca = PCA(n_components=2)\n",
    "X_pca = pca.fit_transform(X)\n",
    "\n",
    "# Apply Kernel PCA with RBF kernel\n",
    "kpca = KernelPCA(n_components=2, kernel='rbf', gamma=0.02)\n",
    "X_kpca = kpca.fit_transform(X)\n",
    "\n",
    "# Plot the original Swiss roll in 3D\n",
    "fig = plt.figure(figsize=(12, 4))\n",
    "ax = fig.add_subplot(131, projection='3d')\n",
    "ax.scatter(X[:, 0], X[:, 1], X[:, 2], c=color)\n",
    "ax.set_title(\"Original Swiss Roll\")\n",
    "\n",
    "# Plot the results of standard PCA\n",
    "ax = fig.add_subplot(132)\n",
    "plt.scatter(X_pca[:, 0], X_pca[:, 1], c=color)\n",
    "plt.title(\"PCA\")\n",
    "\n",
    "# Plot the results of Kernel PCA\n",
    "ax = fig.add_subplot(133)\n",
    "plt.scatter(X_kpca[:, 0], X_kpca[:, 1], c=color)\n",
    "plt.title(\"Kernel PCA (RBF Kernel)\")\n",
    "\n",
    "plt.show()"
   ]
  },
  {
   "cell_type": "markdown",
   "metadata": {},
   "source": [
    "The 2D projection from standard PCA flattens the Swiss roll, but it does not effectively capture the underlying spiral structure. Points that were far apart on the roll may end up close together in the 2D projection. On the other hand, Kernel PCA successfully unrolls the Swiss roll, revealing a structure that better preserves the original relationships between points. The colors (representing positions along the roll) form a smooth gradient, indicating that the non-linear structure has been effectively captured."
   ]
  }
 ],
 "metadata": {
  "kernelspec": {
   "display_name": "Python 3 (ipykernel)",
   "language": "python",
   "name": "python3"
  },
  "language_info": {
   "codemirror_mode": {
    "name": "ipython",
    "version": 3
   },
   "file_extension": ".py",
   "mimetype": "text/x-python",
   "name": "python",
   "nbconvert_exporter": "python",
   "pygments_lexer": "ipython3",
   "version": "3.11.5"
  },
  "latex_envs": {
   "LaTeX_envs_menu_present": true,
   "autoclose": false,
   "autocomplete": true,
   "bibliofile": "biblio.bib",
   "cite_by": "apalike",
   "current_citInitial": 1,
   "eqLabelWithNumbers": true,
   "eqNumInitial": 1,
   "hotkeys": {
    "equation": "Ctrl-E",
    "itemize": "Ctrl-I"
   },
   "labels_anchors": false,
   "latex_user_defs": false,
   "report_style_numbering": false,
   "user_envs_cfg": false
  },
  "name": "Lecture1.ipynb",
  "toc": {
   "base_numbering": 1,
   "nav_menu": {},
   "number_sections": true,
   "sideBar": true,
   "skip_h1_title": false,
   "title_cell": "Table of Contents",
   "title_sidebar": "Contents",
   "toc_cell": false,
   "toc_position": {},
   "toc_section_display": true,
   "toc_window_display": false
  }
 },
 "nbformat": 4,
 "nbformat_minor": 2
}
