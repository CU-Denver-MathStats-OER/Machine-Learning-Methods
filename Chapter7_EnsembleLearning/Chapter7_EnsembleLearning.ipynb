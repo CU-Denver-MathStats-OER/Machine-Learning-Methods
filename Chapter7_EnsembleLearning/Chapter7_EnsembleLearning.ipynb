{
 "cells": [
  {
   "cell_type": "markdown",
   "metadata": {
    "ein.tags": "worksheet-0",
    "slideshow": {
     "slide_type": "-"
    }
   },
   "source": [
    "# Ensemble Learning"
   ]
  },
  {
   "cell_type": "markdown",
   "metadata": {},
   "source": [
    "Ensemble learning is a machine learning technique that combines multiple models (classifiers or regressors, often called **weak learners**) to produce a more accurate and robust one than any individual model. The key idea behind ensemble learning is that by aggregating the predictions from several models, the strengths of individual models can be leveraged, and their weaknesses can be mitigated, thus improving the overall performance of modeling."
   ]
  },
  {
   "cell_type": "markdown",
   "metadata": {},
   "source": [
    "## Bagging (Bootstrap Aggregating)"
   ]
  },
  {
   "cell_type": "markdown",
   "metadata": {},
   "source": [
    "The idea of **bagging**, short for **Bootstrap Aggregating**, is to train multiple models independently on different bootstrapped subsets of the training data, and then the predictions are averaged (for regressors) or voted upon (for classifiers). Bootstrapping is a statistical technique that generates multiple samples from a single (small) dataset by sampling with replacement so that estimates of the distribution of a statistic, e.g., the mean, variance, or confidence interval, can be made when the underlying distribution of the data is unknown. The following diagram illustrates how boostrapping works."
   ]
  },
  {
   "cell_type": "markdown",
   "metadata": {},
   "source": [
    "<img src=\"image/bootstrapping.png\" width=\"1000\"> "
   ]
  },
  {
   "cell_type": "markdown",
   "metadata": {},
   "source": [
    "Bagging is particularly effective for reducing variance and preventing overfitting, especially in models with high variability such as decision trees. A high-variability model highly depends on the training dataset. If a different training set is used, then the model can behave quite differently. With bootstrapping, we are creating a group of approximately independent and identically distributed (i.i.d.) training sets, and an individual model (with high variance) is trained on each of the sets. By combining the models and averaging the predictions, the ensemble is likely less variable than any of its component learners.\n",
    "\n",
    "Let $\\{(\\boldsymbol{x}_1, y_1), \\dots, (\\boldsymbol{x}_N, y_N)\\}$ be a training dataset for a regression problem. Each feature $\\boldsymbol{x}_i$ is $d$-dimensional. Suppose $M$ samples each of size $N$ are obtained by bootstrapping. For each bootstrapped samples $S_1, S_2,\\dots, S_M$, we fit a model $f_i(x), i=1,\\dots,M$. Then the ensemble estimate $f^\\text{E}(\\boldsymbol{x})$ for a new data instance $\\boldsymbol{x}$ is computed as the average of the predictions from the individual models:\n",
    "\n",
    "\\begin{equation*}\n",
    "f^\\text{E}(\\boldsymbol{x}) = \\frac{1}{M}\\sum_{i=1}^Mf_i(\\boldsymbol{x})\n",
    "\\end{equation*}\n",
    "\n",
    "For a $K$-class classification problem, the algorithm works similarly. With the individual learners $f_i(x), i=1,\\dots,M$, we can obtain a vector $(p_1(\\boldsymbol{x}), p_2(\\boldsymbol{x}), \\dots, p_K(\\boldsymbol{x}))$, where $p_i(\\boldsymbol{x})$ represents the proportion of the learners that predict class $i$ for the new instance $\\boldsymbol{x}$. Then the ensemble estimate is:\n",
    "\n",
    "\\begin{equation*}\n",
    "f^\\text{E}(\\boldsymbol{x}) = \\text{arg}\\max_{k\\in \\{1,2,\\dots,K\\}}p_k(\\boldsymbol{x}) = \\text{arg}\\max_{k\\in \\{1,2,\\dots,K\\}}\\sum_{i=1}^M \\mathbb{I}(f_i(\\boldsymbol{x})=k)\n",
    "\\end{equation*}\n",
    "\n",
    "where $\\mathbb{I}(\\cdot)$ is the indicator function. This above voting method is called **hard voting** or **majority voting**. Another way of voting is to consider at the probability of predicting a class for a new instance $(\\boldsymbol{x})$ for each learner $f_i$, if the individual learners are equipped with such probabilities (e.g. decision trees). Let $p_{i,j}(\\boldsymbol{x})$ denote the probability of learner $f_i$ predicting class $j$ for data instance $(\\boldsymbol{x})$, where $1\\le i\\le N$, and $1\\le j\\le K$. If we average these probabilities for each $j$, and find the class with the largest average, we can define the **soft voting** rule:\n",
    "\n",
    "\\begin{equation*}\n",
    "f^\\text{E}(\\boldsymbol{x}) = \\text{arg}\\max_{k\\in \\{1,2,\\dots,K\\}}\\left\\{\\frac{1}{M}\\sum_{i=1}^Mp_{i,k}\\right\\}\n",
    "\\end{equation*}\n",
    "\n",
    "For instance, suppose there are three models $f_1, f_2, f_3$ in the ensemble to predict two classes labeled $1$ and $2$, and the probabilities are:\n",
    "\n",
    "\\begin{equation*}\n",
    "p_{1,1} = 0.7, p_{1,2} = 0.3, p_{2,1} = 0.4, p_{1,2} = 0.6, p_{3,1} = 0.8, p_{3,2} = 0.2, \n",
    "\\end{equation*}\n",
    "\n",
    "Then the average probabilities are $(0.7+0.4+0.8)/3=0.63$ for predicting class 1, and $(0.3+0.6+0.2)/3=0.37$ for predicting class 2. The final prediction is class 1 based on the soft voting rule. Soft voting considers the confidence levels of each model, and hence can lead to more accurate ensemble prediction, especially when the individual models are not in strong agreement. However, it does require the individual learners to be capable of outputting probabilities associated with predictions, which many models fail to do.\n"
   ]
  },
  {
   "cell_type": "markdown",
   "metadata": {},
   "source": [
    "In the bagging algorithm above, we assume the sampling is done with replacement. In the case of no replacement, the method is called **pasting**. In some cases, we may want to sample from the feature space (i.e., use a subset of features), e.g., when the dimension of the feature space is large. If both the features and data points are randomly selected to create distinct training sets for individual models, then the method is called **random patches**. If only the features are sampled and all the data points are used for the individual models, then the method is called **random subspaces**. In addition, we noticed an obvious advantage of applying bagging (or pasting, random patches, random subspaces), which is training the individual learners can be easily parallelized. This property enables us to train a ensemble model with a large number of components."
   ]
  },
  {
   "cell_type": "markdown",
   "metadata": {},
   "source": [
    "**Example 7-1**\n",
    "\n",
    "Construct a bagging ensemble of 50 decision trees with no regularization for the Iris dataset. Use the petal length and width as features. Each tree component is trained with 100 bootstrapped instances."
   ]
  },
  {
   "cell_type": "code",
   "execution_count": null,
   "metadata": {},
   "outputs": [],
   "source": [
    "from sklearn.datasets import load_iris\n",
    "import numpy as np\n",
    "from sklearn.tree import DecisionTreeClassifier\n",
    "from sklearn.ensemble import BaggingClassifier\n",
    "import matplotlib.pyplot as plt\n",
    "%matplotlib inline\n",
    "\n",
    "# Load the Iris dataset\n",
    "# Use only the last two features petal length and width\n",
    "iris = load_iris()\n",
    "X, y = iris.data[:, 2:], iris.target\n",
    "\n",
    "# Creating the bagging ensemble,\n",
    "# each member with a sample size of 100.\n",
    "bag_clf = BaggingClassifier(estimator=DecisionTreeClassifier(), n_estimators=50,\n",
    "                            max_samples=100, random_state=32)\n",
    "bag_clf.fit(X, y)"
   ]
  },
  {
   "cell_type": "code",
   "execution_count": null,
   "metadata": {},
   "outputs": [],
   "source": [
    "# Plot the decision boundary\n",
    "# generage grid\n",
    "x1 = np.linspace(X[:,0].min()-0.1, X[:,0].max()+0.1, 100)\n",
    "x2 = np.linspace(X[:,1].min()-0.1, X[:,0].max()+0.1, 100)\n",
    "X1, X2 = np.meshgrid(x1, x2)\n",
    "# flatten X1 and X2\n",
    "r1, r2 = X1.flatten(), X2.flatten()\n",
    "# make r1 and r2 2D\n",
    "r1, r2 = r1.reshape((len(r1), 1)), r2.reshape((len(r2), 1))\n",
    "# horizontally stack r1 and r2\n",
    "grid = np.hstack((r1,r2))\n",
    "# now grid is a feature matrix\n",
    "# get predicted labels for grid\n",
    "yhat = bag_clf.predict(grid)\n",
    "# reshape yhat so that it has the same shape as X1 and X2\n",
    "ZZ = yhat.reshape(X1.shape)\n",
    "plt.contourf(X1, X2, ZZ, cmap='Paired')\n",
    "plt.scatter(X[y == 0, 0], X[y == 0, 1],\n",
    "marker='o', c='b', s=24, label='Iris-Setosa')\n",
    "plt.scatter(X[y == 1, 0], X[y == 1, 1],\n",
    "marker='s', c='g', s=24, label='Iris-Versicolor')\n",
    "plt.scatter(X[y == 2, 0], X[y == 2, 1],\n",
    "marker='s', c='y', s=24, label='Iris-Virginica')\n",
    "plt.legend(fontsize=16)\n",
    "plt.xlabel('Petal length', fontsize=16)\n",
    "plt.ylabel('Petal width', fontsize=16);\n",
    "plt.title('Decision boundary for the bagging ensemble');"
   ]
  },
  {
   "cell_type": "markdown",
   "metadata": {},
   "source": [
    "### Out-of-Bag Score"
   ]
  },
  {
   "cell_type": "markdown",
   "metadata": {},
   "source": [
    "A byproduct of bagging is that we have a measure to estimate how well the ensemble model performs for new data points, without actually having new data points or evaluating the ensemble model. The reason is that each individual model only sees part of the training data points, since the training set for each individual model is obtained from bootstrapping the entire training dataset. Hence, how the models perform on the data instances they did not see during the training process can be an estimator on how well the ensemble model generalizes. To be specific, a measure can be defined in this way: 1) for each data instance in the training set, we find all the models that did not use it during the training process; 2) evaluate these models at the data instance, and take the majority vote; 3) the majority vote is either equal to the true label or not; we compute the proportion of the data instances for which the true labels equal the majority votes. The proportion is defined as the **out-of-bag score** (**OOB score**). Mathematically, let $D_i$, $1\\le i\\le M$ be the set of data points used to train model $f_i$. Denote the out-of-bag majority vote for an instance $\\boldsymbol{x}$ as $f^{\\text{E}}_{\\text{OOB}}(\\boldsymbol{x}$. Then\n",
    "\n",
    "\\begin{equation*}\n",
    "f^{\\text{E}}_{\\text{OOB}}(\\boldsymbol{x}) = \\text{arg}\\max_{k\\in\\{1,2,\\dots,K\\}}\\sum_{i=1}^M\\mathbb{I}(f_i(\\boldsymbol{x})=k)\\cdot \\mathbb{I}(\\boldsymbol{x}\\notin D_i)\n",
    "\\end{equation*}\n",
    "\n",
    "and the OOB score can be computed as\n",
    "\n",
    "\\begin{equation*}\n",
    "s_{\\text{OOB}} = \\frac{1}{N} \\sum_{i=1}^N\\mathbb{I}(f^{\\text{E}}_{\\text{OOB}}(\\boldsymbol{x}_i)=y_i)\n",
    "\\end{equation*}\n",
    "\n",
    "Similary, we can define the **OOB error**, which is simply $1$ minus the OOB score:\n",
    "\n",
    "\\begin{equation*}\n",
    "e_{\\text{OOB}} = \\frac{1}{N} \\sum_{i=1}^N\\mathbb{I}(f^{\\text{E}}_{\\text{OOB}}(\\boldsymbol{x}_i)\\ne y_i) = 1- s_{\\text{OOB}}\n",
    "\\end{equation*}"
   ]
  },
  {
   "cell_type": "markdown",
   "metadata": {},
   "source": [
    "We now continue with the previous example and compute the OOB score."
   ]
  },
  {
   "cell_type": "code",
   "execution_count": null,
   "metadata": {},
   "outputs": [],
   "source": [
    "# The difference is to set oob_score=True\n",
    "bag_clf = BaggingClassifier(estimator=DecisionTreeClassifier(), n_estimators=50,\n",
    "                            max_samples=100, oob_score=True, random_state=32)\n",
    "bag_clf.fit(X, y)"
   ]
  },
  {
   "cell_type": "code",
   "execution_count": null,
   "metadata": {},
   "outputs": [],
   "source": [
    "# Now we can see what the OOB socre is:\n",
    "bag_clf.oob_score_"
   ]
  },
  {
   "cell_type": "markdown",
   "metadata": {},
   "source": [
    "To see the detailed information on $f^{\\text{E}}_{\\text{OOB}}$ for each data instance $\\boldsymbol{x}$, we can do"
   ]
  },
  {
   "cell_type": "code",
   "execution_count": null,
   "metadata": {},
   "outputs": [],
   "source": [
    "bag_clf.oob_decision_function_"
   ]
  },
  {
   "cell_type": "markdown",
   "metadata": {},
   "source": [
    "For example, for the last data instance, among all the individual models not using it during the training stage, 90.2\\% of them predict it to be Verginica, while 9.8\\% predict it to be Versicolor ($f^{\\text{E}}_{\\text{OOB}}=3$)."
   ]
  },
  {
   "cell_type": "markdown",
   "metadata": {},
   "source": [
    "## Random Forests\n",
    "Random Forest (RF) is a variation of bagging. The motivation behind RF is to create training datasets for individual trees that are less dependent on each other (a collection of decorrelated trees). To this end, more randomness is introduced in the sampling process. For each individual model, a bootstrapped sample is first randomly selected. In the following process that construct a decision tree, for each node, instead of looking at all the possible choices of feature for a split and all the split points, RF randomly selects a subset of $k$ features, where $k<d$, a split criterion is decided based on the subset of features. Note that if $k=d$, then the ensemble is simply a regular bagging of decision trees. Usually, $k$ is chosen as $\\log_2 d$. The randomness resulting from randomly sampling the features increase the independency of the individual models in the ensemble."
   ]
  },
  {
   "cell_type": "markdown",
   "metadata": {},
   "source": [
    "Now we use *RandomForestClassifier* to perform RF with Python for the wine data set (https://scikit-learn.org/stable/datasets/toy_dataset.html#wine-dataset)."
   ]
  },
  {
   "cell_type": "code",
   "execution_count": null,
   "metadata": {},
   "outputs": [],
   "source": [
    "from sklearn.datasets import load_wine\n",
    "from sklearn.model_selection import train_test_split\n",
    "from sklearn.ensemble import RandomForestClassifier\n",
    "\n",
    "# Load the Wine dataset\n",
    "wine = load_wine()\n",
    "X, y = wine.data, wine.target\n",
    "\n",
    "# Split the data into training and testing sets\n",
    "X_train, X_test, y_train, y_test = train_test_split(X, y, test_size=0.3, random_state=42)\n",
    "\n",
    "# Initialize and train the Random Forest Classifier\n",
    "rf_clf = RandomForestClassifier(n_estimators=100, random_state=21)\n",
    "rf_clf.fit(X_train, y_train)\n",
    "\n",
    "# Make predictions on the test set\n",
    "y_pred = rf_clf.predict(X_test)\n",
    "\n",
    "# Evaluate the model's performance\n",
    "accuracy = rf_clf.score(X_test, y_test)\n",
    "print(f\"Random Forest Classifier Accuracy: {accuracy:.2f}\")"
   ]
  },
  {
   "cell_type": "markdown",
   "metadata": {},
   "source": [
    "We achieved an accuracy of $1.0$. It is not surprising that random forest performs so well. Actually, RF is used much more often than the other bagging techniques, and it is also commonly used as a baseline model, before more complicated models, such as deep neural networks, are attempted."
   ]
  },
  {
   "cell_type": "markdown",
   "metadata": {},
   "source": [
    "### Importance Score associate with Random Forests"
   ]
  },
  {
   "cell_type": "markdown",
   "metadata": {},
   "source": [
    "In Random Forests, feature importance scores are a byproduct that can be used to evaluate the significance of each feature in predicting the target variable. Feature importance is an important topic in machine learning interpretability/explainability. Many models do not carry built-in feature importance scores as RF, and hence one has to apply some model-agnostic methods to compute those scores. As a result, this is a key advantage of Random Forests, as they directly provide a way to understand which features are most influential in the model's predictions.\n",
    "\n",
    "The most common method for calculating feature importance for RF is by considering the how much each feature contributes to reducing the impurity (e.g., Gini impurity) in the decision trees within the Random Forest.\n",
    "For each feature, the decrease in impurity is averaged over all the trees in the forest. A feature that results in a significant decrease in impurity is considered more important."
   ]
  },
  {
   "cell_type": "code",
   "execution_count": null,
   "metadata": {},
   "outputs": [],
   "source": [
    "# Print out the feature importances for all features:\n",
    "print('feature importance:', rf_clf.feature_importances_)\n",
    "print()\n",
    "# A better print-out: including the feature names,\n",
    "# so that we know which feature importance is for which feature\n",
    "for i in range(rf_clf.feature_importances_.size):\n",
    "    print(wine[\"feature_names\"][i], rf_clf.feature_importances_[i])"
   ]
  },
  {
   "cell_type": "markdown",
   "metadata": {},
   "source": [
    "The results show that the features \"alcohol\", \"flavanoids\", \"color_intensity\", \"od280/od315_of_diluted_wines\", and \"proline\" play a more important role than the others in the predictions of the ensemble model."
   ]
  },
  {
   "cell_type": "markdown",
   "metadata": {},
   "source": [
    "## Boosting"
   ]
  },
  {
   "cell_type": "markdown",
   "metadata": {},
   "source": [
    "Boosting works differently from bagging, where a collection of independent weak learners with high variance are combined to produce a model that generalizes well. For boosting, the idea is that a collection of sequential models with high bias are combined to produce a stronger predictive model. Each new model in the ensemble is trained sequentially with the purpose of correcting the errors made by the previous models. Two boosting techniques are commonly used: **AdaBoost** and **Gradient Boosting**. We start with the discussion of AdaBoost."
   ]
  },
  {
   "cell_type": "markdown",
   "metadata": {},
   "source": [
    "### Adaptive Boosting (AdaBoost)"
   ]
  },
  {
   "cell_type": "markdown",
   "metadata": {},
   "source": [
    "The idea of AdaBoost is to assign weights to training data instances. A subsequent model tries to put more weights on the instances that are predicted wrong by the previous models. The final ensemble model is a linear combination (weighted sum) of all the individual models with more accurate individual models assigned a larger coefficients (weights). The algorithm works as follows."
   ]
  },
  {
   "cell_type": "markdown",
   "metadata": {},
   "source": [
    "Step 1. Initialize the weights for data instances\n",
    "\n",
    "- All data instances are initially assigned an equal weight, $w_i^{(1)} = \\frac{1}{N}$, $1\\le i\\le N$. Here the superscript denotes the iteration number."
   ]
  },
  {
   "cell_type": "markdown",
   "metadata": {},
   "source": [
    "Step 2. Train weak learners\n",
    "\n",
    "For each iteration $m$, $1\\le i\\le M$, where $M$ is the number of individual models to be constructed,\n",
    "\n",
    "-  train a weak learner $f_m$, such as a shallow decision tree, based on the weighted samples. That is, minimizing a weighted error function (e.g.,\n",
    "in Scikit-Learn the fit method for the classifier has a sample_weight optional input).\n",
    "\n",
    "- compute the weighted error:\n",
    "\n",
    "\\begin{equation*}\n",
    "\\epsilon_m = \\frac{\\sum_{i=1}^{N} w_i^{(m)} \\cdot \\mathbb{I}\\{ f_m(\\boldsymbol{x}_i) \\neq y_i \\}}{\\sum_{i=1}^{N} w_i^{(m)}}\n",
    "\\end{equation*}\n",
    "This can be explained as the weighted sum of misclassified instances. The denominator is always 1 as seen in the following steps. Note that if the weights are equal for all data instances, $\\epsilon_m$ is simply the proportion of data instances that are predicted wrong by $f_m$.\n",
    "\n",
    "- compute the weight of learner $f_m$\n",
    "\n",
    "\\begin{equation*}\n",
    "\\alpha_m = \\frac{1}{2} \\ln \\left(\\frac{1 - \\epsilon_m}{\\epsilon_m}\\right)\n",
    "\\end{equation*}\n",
    "\n",
    "The smaller $\\epsilon_m$, the larger the weight $\\alpha_m$, as seen below. As $\\alpha_m$ approaches $0.5$ (meaning approaching a random model), $\\alpha_m$ is close to 0."
   ]
  },
  {
   "cell_type": "code",
   "execution_count": null,
   "metadata": {},
   "outputs": [],
   "source": [
    "eps = np.linspace(0.00001, 0.5, 100)\n",
    "plt.plot(eps, np.log((1-eps)/eps), 'b-')\n",
    "plt.xlabel('$\\epsilon_m$')\n",
    "plt.ylabel('$\\ln{((1-\\epsilon_m)/\\epsilon_m)}$');"
   ]
  },
  {
   "cell_type": "markdown",
   "metadata": {},
   "source": [
    "Step 3. Update Sample Weights\n",
    "\n",
    "- Increase the weights of $f_m$-misclassified samples:\n",
    "\n",
    "\\begin{equation*}\n",
    "w_i^{(m+1)} = w_i^{(m)} \\cdot \\exp \\left( \\alpha_m \\cdot \\mathbb{I}\\{ f_m(\\boldsymbol{x}_i) \\neq y_i \\} \\right),\\quad 1\\le i\\le N\n",
    "\\end{equation*}\n",
    "This means the weights of the misclassified instances are magnified, while the weights of the correctly classified instances get smaller, due to the normalization below.\n",
    "\n",
    "- Normalize weights\n",
    "\n",
    "\\begin{equation*}\n",
    "w_i^{(m+1)} = \\frac{w_i^{(m+1)}}{\\sum_{j=1}^{N} w_j^{(m+1)}},\\quad 1\\le i\\le N\n",
    "\\end{equation*}"
   ]
  },
  {
   "cell_type": "markdown",
   "metadata": {},
   "source": [
    "Step 4. Combine Weak Learners\n",
    "\n",
    "- The final ensemble model is:\n",
    "\n",
    "\\begin{equation*}\n",
    "f^{\\text{E}}(\\boldsymbol{x}) = \\text{sign} \\left( \\sum_{m=1}^{M} \\alpha_m \\cdot f_m(\\boldsymbol{x}) \\right)\n",
    "\\end{equation*}"
   ]
  },
  {
   "cell_type": "markdown",
   "metadata": {},
   "source": [
    "The principles behind these formulas are the minimization of an exponential loss function (see Friedman (2000)). Due to the complexity of the derivation, we will leave it out."
   ]
  },
  {
   "cell_type": "markdown",
   "metadata": {},
   "source": [
    "**Example 7-2**\n",
    "\n",
    "Apply AdaBoost to the breast cancer dataset (https://scikit-learn.org/stable/datasets/toy_dataset.html#breast-cancer-dataset). The weak learners are decision trees with a maximum depth of 1."
   ]
  },
  {
   "cell_type": "code",
   "execution_count": null,
   "metadata": {},
   "outputs": [],
   "source": [
    "from sklearn.datasets import load_breast_cancer\n",
    "from sklearn.model_selection import train_test_split\n",
    "from sklearn.ensemble import AdaBoostClassifier\n",
    "from sklearn.metrics import accuracy_score\n",
    "\n",
    "# Load the Breast Cancer dataset\n",
    "data = load_breast_cancer()\n",
    "X, y = data.data, data.target\n",
    "\n",
    "# Split the data into training and testing sets\n",
    "X_train, X_test, y_train, y_test = train_test_split(X, y, test_size=0.3, random_state=42)\n",
    "\n",
    "# Initialize and train the weak learners\n",
    "ada_model = AdaBoostClassifier(estimator=DecisionTreeClassifier(max_depth=1), \n",
    "                               algorithm='SAMME',  # for the purpose of suppressing a warning\n",
    "                               n_estimators=100, random_state=90)\n",
    "ada_model.fit(X_train, y_train)\n",
    "\n",
    "# Make predictions on the test set\n",
    "y_pred = ada_model.predict(X_test)\n",
    "\n",
    "# Evaluate the model\n",
    "accuracy = accuracy_score(y_test, y_pred)\n",
    "print(f\"AdaBoost Classifier Accuracy: {accuracy:.2f}\")"
   ]
  },
  {
   "cell_type": "markdown",
   "metadata": {},
   "source": [
    "### Gradient Boosting"
   ]
  },
  {
   "cell_type": "markdown",
   "metadata": {},
   "source": [
    "Gradient Boosting builds models sequentially in the way that each subsequent model is trained to correct the residual errors of the combined predictions from previous models. The final model is a weighted sum of all the individual models. The name comes from the fact that it uses gradient descent to minimize the loss function. Here are the details of the algorithm."
   ]
  },
  {
   "cell_type": "markdown",
   "metadata": {},
   "source": [
    "Step 1. Initialize a model\n",
    "\n",
    "The initial model, $f_0(\\boldsymbol{x}), $used in gradient boosting is typically a constant function, and the lost function $L$ is typically the Mean Squared Error (MSE). Hence the initial model is:\n",
    "\n",
    "\\begin{equation*}\n",
    "f_0(\\boldsymbol{x}) = \\arg \\min_c \\sum_{i=1}^{N} L(y_i, c)\n",
    "\\end{equation*}\n",
    "\n",
    "We have seen in the chapter on decision trees that the solution to the optimization problem is trivial:\n",
    "\n",
    "\\begin{equation*}\n",
    "f_0(\\boldsymbol{x}) =\\frac{1}{N}\\sum_{i=1}^{N} y_i\n",
    "\\end{equation*}"
   ]
  },
  {
   "cell_type": "markdown",
   "metadata": {},
   "source": [
    "Step 2. Compute the residuals\n",
    "\n",
    "For each iteration $m$, $1\\le i\\le M$, where $M$ is the number of individual models to be constructed, we are trying to find the $m$th individual model $f_m$. By the motivation of gradient boosting, $f_m$ approximates the residuals of the current model, which is the negative gradient of the loss function $L$ with respect to the current prediction:\n",
    "\n",
    "\\begin{equation*}\n",
    "r_i^{(m)} = -\\left[\\frac{\\partial L(y_i, F(\\boldsymbol{x}_i))}{\\partial F(\\boldsymbol{x}_i)}\\right]_{F(\\boldsymbol{x})=F_{m-1}(\\boldsymbol{x})}\n",
    "\\end{equation*}\n",
    "\n",
    "where $F_{m-1}(\\boldsymbol{x})$ is the ensemble model with $m-1$ individual models. The residual represents the direction where the ensemble model needs to move to fast decrease the cost function. In the case of $L$ being the MSE function, the residual $r_i^{(m)}$ is simply $y_i-F_{m-1}(\\boldsymbol{x_i})$, the difference between the true value (label) and the current ensemble prediction.\n"
   ]
  },
  {
   "cell_type": "markdown",
   "metadata": {},
   "source": [
    "Step 3. Fit the new individual model $f_m$ that approximates the residual $r_i^{(m)}$\n",
    "\n",
    "\\begin{equation*}\n",
    "f_m(\\boldsymbol{x}) = \\arg \\min_{f} \\sum_{i=1}^{N} \\left(r_i^{(m)} - f(\\boldsymbol{x}_i)\\right)^2\n",
    "\n",
    "\\end{equation*}"
   ]
  },
  {
   "cell_type": "markdown",
   "metadata": {},
   "source": [
    "Step 4. Update the ensemble model $F_m(\\boldsymbol{x})$\n",
    "\n",
    "\\begin{equation*}\n",
    "F_m(\\boldsymbol{x}) = F_{m-1}(\\boldsymbol{x}) + \\eta f_m(\\boldsymbol{x})\n",
    "\\end{equation*}\n",
    "\n",
    "where $\\eta$ is the learning rate."
   ]
  },
  {
   "cell_type": "markdown",
   "metadata": {},
   "source": [
    "At the end, we have the final gradient boost ensemble model, $F^{\\text{E}}(\\boldsymbol{x})=F_M(\\boldsymbol{x})$. It is clearly seen that the whole process is a gradient descent in the function space. \n",
    "\n",
    "Now we use decision trees as the individual models in the gradient boosting ensemble for a synthetic problem. Such gradient boosting is called **Gradient Tree Boosting**, or **Gradient Boosted Regression Trees (GBRT)**. "
   ]
  },
  {
   "cell_type": "markdown",
   "metadata": {},
   "source": [
    "**Example 7-3**\n",
    "\n",
    "Use sklearn.ensemble.GradientBoostingRegressor to build a gradient boosting model for noisy data generated from the underlying function \n",
    "\n",
    "\\begin{equation*}\n",
    "f(x) = 2x + \\sin{x}\n",
    "\\end{equation*}\n"
   ]
  },
  {
   "cell_type": "code",
   "execution_count": null,
   "metadata": {},
   "outputs": [],
   "source": [
    "from sklearn.ensemble import GradientBoostingRegressor\n",
    "from sklearn.metrics import mean_squared_error\n",
    "\n",
    "# Create a synthetic dataset\n",
    "ndata = 100  # 100 data points\n",
    "np.random.seed(10)\n",
    "X = np.linspace(0, 2*np.pi, ndata)  # data points are between 0 and 2pi\n",
    "y = 2 * X + np.sin(X) + np.random.normal(0, 0.5, X.size)\n",
    "X = X[:, np.newaxis]\n",
    "\n",
    "# Initialize and train a Gradient Boosting Regressor with 3 components.\n",
    "gbr3 = GradientBoostingRegressor(n_estimators=3, max_depth=1, learning_rate=1, random_state=42)\n",
    "gbr3.fit(X, y)\n",
    "\n",
    "# Predictions\n",
    "y_pred_3 = gbr3.predict(X)\n",
    "\n",
    "# Plotting the results\n",
    "fig, ax = plt.subplots(1, 3, figsize=(21, 6))\n",
    "\n",
    "ax[0].plot(X, y, 'bo', label='Training Data')\n",
    "ax[0].plot(X, y_pred_3, 'g-', label='GBRT-M=3')\n",
    "ax[0].legend()\n",
    "ax[0].set_xlabel('x')\n",
    "ax[0].set_ylabel('y');\n",
    "\n",
    "# Initialize and train a Gradient Boosting Regressor with 10 components.\n",
    "gbr10 = GradientBoostingRegressor(n_estimators=10, max_depth=1, learning_rate=1, random_state=42)\n",
    "gbr10.fit(X, y)\n",
    "\n",
    "# Predictions\n",
    "y_pred_10 = gbr10.predict(X)\n",
    "\n",
    "# Plotting the results\n",
    "ax[1].plot(X, y, 'bo', label='Training Data')\n",
    "ax[1].plot(X, y_pred_10, 'g-', label='GBRT-M=10')\n",
    "ax[1].legend()\n",
    "ax[1].set_xlabel('x')\n",
    "ax[1].set_ylabel('y');\n",
    "\n",
    "# Initialize and train a Gradient Boosting Regressor with 20 components.\n",
    "gbr20 = GradientBoostingRegressor(n_estimators=20, max_depth=1, learning_rate=1, random_state=42)\n",
    "gbr20.fit(X, y)\n",
    "\n",
    "# Predictions\n",
    "y_pred_20 = gbr20.predict(X)\n",
    "\n",
    "# Plotting the results\n",
    "ax[2].plot(X, y, 'bo', label='Training Data')\n",
    "ax[2].plot(X, y_pred_20, 'g-', label='GBRT-M=20')\n",
    "ax[2].legend()\n",
    "ax[2].set_xlabel('x')\n",
    "ax[2].set_ylabel('y');"
   ]
  },
  {
   "cell_type": "markdown",
   "metadata": {},
   "source": [
    "There is an obvious improvement by increasing $M$ from 3 to 10. Further increasing $M$ to 20 does not lead to obvious change of the ensemble model. The gradient boosting algorithm tells us that the ensemble model is obtained iteratively by adding the component that approximates the previous residuals. We verify this by not using the built-in GradientBoostingRegressor class."
   ]
  },
  {
   "cell_type": "code",
   "execution_count": null,
   "metadata": {},
   "outputs": [],
   "source": [
    "from sklearn.tree import DecisionTreeRegressor\n",
    "\n",
    "fig, ax = plt.subplots(3, 2, figsize=(14, 21))\n",
    "\n",
    "# Train the DT regressor on X and y\n",
    "# It is the first decision tree regressor on the data\n",
    "dt_reg1 = DecisionTreeRegressor(max_depth=1)\n",
    "dt_reg1.fit(X, y)\n",
    "\n",
    "ax[0,0].plot(X, y, 'bo', label='Training Data')\n",
    "ax[0,0].plot(X, dt_reg1.predict(X), 'g-', label='$f_1(x)$')\n",
    "ax[0,0].legend()\n",
    "ax[0,0].set_xlabel('x')\n",
    "ax[0,0].set_ylabel('y')\n",
    "ax[0,0].set_title('Tree predictions, M=1')\n",
    "\n",
    "# The ensemble will have only one individual model\n",
    "ax[0,1].plot(X, y, 'bo', label='Training Data')\n",
    "ax[0,1].plot(X, dt_reg1.predict(X), 'r-', label='$F(x) = f_1(x)$')\n",
    "ax[0,1].legend()\n",
    "ax[0,1].set_xlabel('x')\n",
    "ax[0,1].set_ylabel('y');\n",
    "ax[0,1].set_title('Ensemble predictions');\n",
    "\n",
    "\n",
    "# Train the second DT regressor on the residual errors made by the first predictor\n",
    "# It is the second decision tree regressor on the data\n",
    "r = y - dt_reg1.predict(X)\n",
    "dt_reg2 = DecisionTreeRegressor(max_depth=1)\n",
    "dt_reg2.fit(X, r)\n",
    "\n",
    "ax[1,0].plot(X, r, 'bo', label='Training Data')\n",
    "ax[1,0].plot(X, dt_reg2.predict(X), 'g-', label='$f_2(x)$')\n",
    "ax[1,0].legend()\n",
    "ax[1,0].set_xlabel('x')\n",
    "ax[1,0].set_ylabel('y')\n",
    "ax[1,0].set_title('Tree predictions, M=2')\n",
    "\n",
    "# The ensemble will have two individual models\n",
    "ax[1,1].plot(X, y, 'bo', label='Training Data')\n",
    "ax[1,1].plot(X, dt_reg1.predict(X)+dt_reg2.predict(X), 'r-', label='$F(x) = f_1(x)+f_2(x)$')\n",
    "ax[1,1].legend()\n",
    "ax[1,1].set_xlabel('x')\n",
    "ax[1,1].set_ylabel('y');\n",
    "ax[1,1].set_title('Ensemble predictions');\n",
    "\n",
    "# Train the third DT regressor on the residual errors made by the first two predictors\n",
    "# It is the third decision tree regressor on the data\n",
    "r = r - dt_reg2.predict(X)\n",
    "dt_reg3 = DecisionTreeRegressor(max_depth=1)\n",
    "dt_reg3.fit(X, r)\n",
    "\n",
    "ax[2,0].plot(X, r, 'bo', label='Training Data')\n",
    "ax[2,0].plot(X, dt_reg3.predict(X), 'g-', label='$f_3(x)$')\n",
    "ax[2,0].legend()\n",
    "ax[2,0].set_xlabel('x')\n",
    "ax[2,0].set_ylabel('y')\n",
    "ax[2,0].set_title('Tree predictions, M=3')\n",
    "\n",
    "# The ensemble will have two individual models\n",
    "ax[2,1].plot(X, y, 'bo', label='Training Data')\n",
    "ax[2,1].plot(X, dt_reg1.predict(X)+dt_reg2.predict(X)+dt_reg3.predict(X), \n",
    "             'r-', label='$F(x) = f_1(x)+f_2(x)+f_3(x)$')\n",
    "ax[2,1].legend()\n",
    "ax[2,1].set_xlabel('x')\n",
    "ax[2,1].set_ylabel('y');\n",
    "ax[2,1].set_title('Ensemble predictions');"
   ]
  },
  {
   "cell_type": "markdown",
   "metadata": {},
   "source": [
    "Note that the plot in the bottom right corner is the same as that for the gradient boosting regressor with 3 components trained using the built-in class in the previous cell, confirming that either way we obtain the same ensemble model."
   ]
  },
  {
   "cell_type": "markdown",
   "metadata": {},
   "source": [
    "### Optimal Ensemble Size"
   ]
  },
  {
   "cell_type": "markdown",
   "metadata": {},
   "source": [
    "We can use a validation set to monitor the model's performance and perform *early stopping* when the model's performance on the validation set starts to decrease. The Python code below does the job."
   ]
  },
  {
   "cell_type": "code",
   "execution_count": null,
   "metadata": {},
   "outputs": [],
   "source": [
    "from sklearn.metrics import mean_squared_error\n",
    "\n",
    "# We use the same synthetic data\n",
    "\n",
    "# Split the data into training and validation sets\n",
    "X_train, X_val, y_train, y_val = train_test_split(X, y, test_size=0.2, random_state=30)\n",
    "\n",
    "# Initialize a Gradient Boosting Regressor with a large number of estimators\n",
    "gbr = GradientBoostingRegressor(n_estimators=200, learning_rate=1, max_depth=1, random_state=42)\n",
    "\n",
    "# Fit the model while tracking the validation error at each stage\n",
    "gbr.fit(X_train, y_train)\n",
    "\n",
    "# Compute validation error after each stage\n",
    "errors_val = [mean_squared_error(y_val, y_pred) for y_pred in gbr.staged_predict(X_val)]\n",
    "# Compute training error after each stage\n",
    "errors_train = [mean_squared_error(y_train, y_pred_train) for y_pred_train in gbr.staged_predict(X_train)]\n",
    "\n",
    "# Find the optimal number of estimators (minimizing validation error)\n",
    "best_n_estimators = np.argmin(errors_val)  \n",
    "print(f\"Optimal number of estimators: {best_n_estimators+1}\")  # Adding 1 because indexing starts at 0\n",
    "\n",
    "# Plot the validation error\n",
    "plt.figure(figsize=(10, 6))\n",
    "plt.plot(range(1, len(errors_val)+1), errors_val, label='Validation Error')\n",
    "plt.plot(range(1, len(errors_train)+1), errors_train, label='Training Error')\n",
    "plt.axvline(best_n_estimators+1, color='red', linestyle='--', label=f'Optimal # of Estimators = {best_n_estimators+1}')\n",
    "plt.xlabel('Number of Estimators')\n",
    "plt.ylabel('Validation Error')\n",
    "plt.title('Finding Optimal Number of Estimators')\n",
    "plt.legend()\n",
    "plt.show()\n",
    "\n",
    "# Re-train the model with the optimal number of estimators\n",
    "gbr_optimal = GradientBoostingRegressor(n_estimators=best_n_estimators, learning_rate=1, max_depth=1, random_state=15)\n",
    "gbr_optimal.fit(X_train, y_train)\n",
    "\n",
    "# Evaluate on the validation set\n",
    "y_val_pred = gbr_optimal.predict(X_val)\n",
    "mse_val = mean_squared_error(y_val, y_val_pred)\n",
    "print(f\"Validation MSE with optimal estimators: {mse_val:.2f}\")"
   ]
  },
  {
   "cell_type": "markdown",
   "metadata": {},
   "source": [
    "## References\n",
    "\n",
    "1. J. Friedman, T. Hastie, and R. Tibshirani, Additive logistic regression: a statistical view of boosting (With discussion and a rejoinder by the authors), Annals of Statistics, 28(2): 337-407."
   ]
  }
 ],
 "metadata": {
  "kernelspec": {
   "display_name": "Python 3 (ipykernel)",
   "language": "python",
   "name": "python3"
  },
  "language_info": {
   "codemirror_mode": {
    "name": "ipython",
    "version": 3
   },
   "file_extension": ".py",
   "mimetype": "text/x-python",
   "name": "python",
   "nbconvert_exporter": "python",
   "pygments_lexer": "ipython3",
   "version": "3.11.5"
  },
  "latex_envs": {
   "LaTeX_envs_menu_present": true,
   "autoclose": false,
   "autocomplete": true,
   "bibliofile": "biblio.bib",
   "cite_by": "apalike",
   "current_citInitial": 1,
   "eqLabelWithNumbers": true,
   "eqNumInitial": 1,
   "hotkeys": {
    "equation": "Ctrl-E",
    "itemize": "Ctrl-I"
   },
   "labels_anchors": false,
   "latex_user_defs": false,
   "report_style_numbering": false,
   "user_envs_cfg": false
  },
  "name": "Lecture1.ipynb",
  "toc": {
   "base_numbering": 1,
   "nav_menu": {},
   "number_sections": true,
   "sideBar": true,
   "skip_h1_title": false,
   "title_cell": "Table of Contents",
   "title_sidebar": "Contents",
   "toc_cell": false,
   "toc_position": {},
   "toc_section_display": true,
   "toc_window_display": false
  }
 },
 "nbformat": 4,
 "nbformat_minor": 2
}
