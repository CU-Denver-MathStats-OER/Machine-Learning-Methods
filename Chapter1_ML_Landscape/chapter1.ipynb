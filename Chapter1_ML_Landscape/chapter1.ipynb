{
 "cells": [
  {
   "cell_type": "markdown",
   "id": "870cde38",
   "metadata": {
    "slideshow": {
     "slide_type": "slide"
    }
   },
   "source": [
    "## MATH 4388: Machine Learning Methods \n",
    "\n",
    "\n",
    "### Chapter 1: The Machine Learning Landscape\n",
    "\n",
    "### Overview \n",
    "\n",
    "* Definition of machine learning\n",
    "\n",
    "* Components and types of machine learning systems\n",
    "\n",
    "* Fundamental concepts behind machine learning\n",
    "\n",
    "* Challenges of machine learning\n",
    "\n",
    "* Review of two Python’s libraries: NumPy and Pandas\n",
    "    + Essential to learn scikit-learn (sklearn), which is the most popular library for machine learning in Python\n",
    "\n"
   ]
  },
  {
   "cell_type": "markdown",
   "id": "75587fd1",
   "metadata": {
    "slideshow": {
     "slide_type": "slide"
    }
   },
   "source": [
    "### Why use machine learning?\n",
    "<hr style=\"border:2px solid gray\">\n",
    "\n",
    "* Let's design a spam filtering system using traditional programming techniques \n",
    "    + Look for words or phrases, such as credit card and account number, to write a detection algorithm to flag suspicious emails as spam\n",
    "    + Drawbacks: Long list of complex rules, hard to maintain\n",
    "    \n",
    "* A spam filter based on machine learning aims to automatically learn which words and phrases are good predictors or inputs\n",
    "    + Benefits: easier to maintain, more accurate\n",
    "    + The examples that the system uses are called samples (training data set) \n",
    "\n",
    " "
   ]
  },
  {
   "cell_type": "markdown",
   "id": "44e7b2f7",
   "metadata": {
    "slideshow": {
     "slide_type": "slide"
    }
   },
   "source": [
    "### What is machine learning? \n",
    "<hr style=\"border:2px solid gray\">\n",
    "\n",
    "* Tom Mitchell: A computer program is said to learn from experience E with respect to some class of tasks T, and performance measure P, if its performance on T, as measured by P, improves with experience E\n",
    "    + Experience E refers to the \"data\" \n",
    "    + Task T is to identify suspicious/spam emails\n",
    "    + Performance P can be the classification accuracy (i.e., the proportion of correct predictions made by the model out of the total number of predictions)\n",
    "    \n",
    "* Therefore, machine learning is helpful for:\n",
    "    + Complex problems that traditionally require a long list of rules\n",
    "    + Changing/dynamic environments that require continuous updates\n",
    "    + Extracting patterns from large amounts of high-dimensional data\n",
    " "
   ]
  },
  {
   "cell_type": "markdown",
   "id": "117accf6",
   "metadata": {
    "slideshow": {
     "slide_type": "slide"
    }
   },
   "source": [
    "### Components of machine learning\n",
    "<hr style=\"border:2px solid gray\">\n",
    "\n",
    "* Data and Algorithms\n",
    "    + Different types of machine learning algorithms are appropriate for different tasks\n",
    "\n",
    "* Training\n",
    "    + Use an objective function that measures how well the model is performing\n",
    "\n",
    "* Evaluation\n",
    "    + Machine learning models should perform well on new/unseen data\n",
    "\n",
    "* Ethical considerations\n",
    "    + Bias, fairness, privacy, transparency, accountability, etc.\n"
   ]
  },
  {
   "cell_type": "markdown",
   "id": "24a68318",
   "metadata": {},
   "source": [
    "### Types of machine learning\n",
    "<hr style=\"border:2px solid gray\">\n",
    "\n",
    "* Machine learning systems can be categorized based on the *level of supervision* they receive during training. The level of supervision refers to the amount and type of labeled data to learn from. \n",
    "    + Supervised learning \n",
    "        - For each sample, there is an associated response, target, or label\n",
    "        - The model is \"supervised\" because it is provided with the correct output by a teacher\n",
    "    + Unsupervised learning\n",
    "        - For each sample, there is no label (i.e., no supervision)\n",
    "        - The goal is to discover hidden patterns or groupings in the data \n",
    "    + Semi-supervised learning\n",
    "        - A small amount of labeled data along with a larger amount of unlabeled data\n",
    "        - Thus, the data set is partially labeled \n",
    "    + Self-supervised learning\n",
    "        - The training data itself provides the supervision signal without external labels\n",
    "        - The main idea is to generate the labels from unlabeled data"
   ]
  },
  {
   "cell_type": "markdown",
   "id": "224b7f33",
   "metadata": {
    "slideshow": {
     "slide_type": "slide"
    }
   },
   "source": [
    "### Supervised learning (making predictions)\n",
    "\n",
    "<hr style=\"border:2px solid gray\">\n",
    "\n",
    "* Two types of supervised learning\n",
    "    + Regression (quantitative labels) \n",
    "    + Classification (qualitative or categorical labels)\n",
    "    \n",
    "<img src=\"supervised.png\" width=600 height=500 align=\"center\">\n",
    "\n"
   ]
  },
  {
   "cell_type": "markdown",
   "id": "dfbc265e",
   "metadata": {
    "slideshow": {
     "slide_type": "slide"
    }
   },
   "source": [
    "### Notation\n",
    "<hr style=\"border:2px solid gray\">\n",
    "\n",
    "* Supervised learning: learn a mapping or function $f$ from inputs (features/predictors) $\\mathbf{x}\\in\\mathcal{X}$ to outputs $\\mathbf{y}\\in\\mathcal{Y}$. The data set is given in the form of $N$ input-output pairs $\\mathcal{D}=\\{(\\mathbf{x}_n,\\mathbf{y}_n)\\}_{n=1}^N$\n",
    "    + $N$ is the sample size and the number of features is $D$, i.e., $\\mathcal{X}=\\mathbb{R}^D$\n",
    "    + Multi-class classification: $\\mathcal{Y}=\\{1,2,\\ldots, C\\}$\n",
    "    + If we have two classes only (binary classification):\n",
    "        + $\\mathcal{Y}=\\{0,1\\}$\n",
    "        + $\\mathcal{Y}=\\{-1,1\\}$\n",
    "    + We often make an assumption about the functional form or shape of $f$\n",
    "   "
   ]
  },
  {
   "cell_type": "markdown",
   "id": "87681037",
   "metadata": {
    "slideshow": {
     "slide_type": "slide"
    }
   },
   "source": [
    "### Model fitting/training\n",
    "<hr style=\"border:2px solid gray\">\n",
    "\n",
    "* Define *empirical risk* as the average loss on the training data (denote all unknown parameters by $\\boldsymbol{\\theta}$)\n",
    "\n",
    "$$ \\mathcal{L}(\\boldsymbol{\\theta}):=\\frac{1}{N}\\sum_{n=1}^N l(y_n, f(\\mathbf{x}_n;\\boldsymbol{\\theta}))$$\n",
    "\n",
    "where $l$ denotes the loss function\n",
    "* Example: zero-one loss $l(y, \\hat{y})=I(y\\neq \\hat{y})$, giving misclassification rate\n",
    "\n",
    "$$I(y\\neq \\hat{y})=\\begin{cases}1 & \\text{if } y\\neq \\hat{y}\\\\0 &\\text{if } y=\\hat{y} \\end{cases}$$"
   ]
  },
  {
   "cell_type": "markdown",
   "id": "75a0670a",
   "metadata": {
    "slideshow": {
     "slide_type": "slide"
    }
   },
   "source": [
    "### Model fitting/training\n",
    "<hr style=\"border:2px solid gray\">\n",
    "\n",
    "\n",
    "* Empirical risk minimization (ERM): find a setting of the parameters $\\boldsymbol{\\theta}$ that minimizes the empirical risk\n",
    "\n",
    "$$ \\underset{\\boldsymbol{\\theta}}{\\operatorname{argmin}} \\mathcal{L}(\\boldsymbol{\\theta})=\\underset{\\boldsymbol{\\theta}}{\\operatorname{argmin}} \\frac{1}{N}\\sum_{n=1}^N l(y_n, f(\\mathbf{x}_n;\\boldsymbol{\\theta}))$$\n",
    "\n",
    "* Let $\\boldsymbol{\\theta}^*$ denote the solution, the prediction model is $f(\\mathbf{x};\\boldsymbol{\\theta}^*)$ for any input $\\mathbf{x}$"
   ]
  },
  {
   "cell_type": "code",
   "execution_count": 1,
   "id": "64305e03",
   "metadata": {
    "slideshow": {
     "slide_type": "slide"
    }
   },
   "outputs": [
    {
     "data": {
      "image/png": "[encoded data removed]",
      "text/plain": [
       "<Figure size 400x300 with 1 Axes>"
      ]
     },
     "metadata": {},
     "output_type": "display_data"
    }
   ],
   "source": [
    "import numpy as np\n",
    "import matplotlib.pyplot as plt\n",
    "\n",
    "plt.rcParams.update({'font.size': 12, \"figure.figsize\": (4,3)})\n",
    "x = np.linspace(-3,2,100)\n",
    "y = x ** 2 + 2*x +3\n",
    "plt.plot(x,y)\n",
    "plt.plot(-1,2,'ro')\n",
    "plt.show()\n",
    "\n",
    "# What is the difference between min and argmin in this example? "
   ]
  },
  {
   "cell_type": "markdown",
   "id": "f17a3933",
   "metadata": {
    "slideshow": {
     "slide_type": "slide"
    }
   },
   "source": [
    "### Loss function for regression tasks\n",
    "<hr style=\"border:2px solid gray\">\n",
    "\n",
    "* Since the output is real-valued, the most common choice is to use quadratic loss\n",
    "$$l(y,\\hat{y})=(y-\\hat{y})^2$$\n",
    "\n",
    "* Empirical risk minimization\n",
    "$$MSE(\\boldsymbol{\\theta})=\\frac{1}{N}\\sum_{n=1}^N\\big(y_n - f(\\mathbf{x}_n;\\boldsymbol{\\theta})\\big)^2$$\n",
    "\n",
    "* Underlying assumption for linear regression \n",
    "$$f(\\mathbf{x};\\boldsymbol{\\theta})=w_0+w_1x_1+\\ldots+w_Dx_D=w_0+\\mathbf{w}^T\\mathbf{x}$$\n",
    "\n",
    "where $\\mathbf{w}=[w_1,\\ldots,w_D]\\in\\mathbb{R}^D$, $\\mathbf{x}=[x_1,\\ldots,x_D]\\in\\mathbb{R}^D$, $\\boldsymbol{\\theta}=\\{w_0,\\mathbf{w}\\}$"
   ]
  },
  {
   "cell_type": "markdown",
   "id": "bbcdfde9",
   "metadata": {
    "slideshow": {
     "slide_type": "slide"
    }
   },
   "source": [
    "### Parametric vs non-parametric model\n",
    "<hr style=\"border:2px solid gray\">\n",
    "\n",
    "* The model-based approach just described is referred to as parametric\n",
    "    + Reduces the problem of estimating $f$ down to one of estimating a set of parameters\n",
    "    + If the chosen model is too far from the reality, then our estimate will be poor\n",
    "\n",
    "* Non-parametric or instance-based learning methods do not make explicit assumptions about $f$\n",
    "\n",
    "\n",
    "<img src=\"parametric_model.png\" width=600 height=500 align=\"center\">\n"
   ]
  },
  {
   "cell_type": "markdown",
   "id": "51c74af7",
   "metadata": {},
   "source": [
    "### Challenges of machine learning\n",
    "<hr style=\"border:2px solid gray\">\n",
    "\n",
    "\n",
    "* Inadequate amounts of training data \n",
    "    * Some machine learning models require hundreds of thousands or millions of samples\n",
    "\n",
    "* Nonrepresentative, irrelevant, and poor-quality training data \n",
    "    * Noisy inputs, outliers, and errors present challenges for machine learning systems \n",
    "    \n",
    "* Overfitting the training data\n",
    "    * The model performs well on the training data, but it does not generalize well to new/unseen examples\n",
    "    * Possible remedies include reducing the number of model parameters, collecting more training data, and removing outliers \n",
    "    * Constraining a model to make it simpler is called regularization\n",
    "    \n",
    "* Underfitting the training data \n",
    "    * The model is too simple to learn the underlying patterns \n",
    "    * Therefore, the model does not perform well on the training data\n",
    "    * Possible remedies include selecting a more powerful model "
   ]
  },
  {
   "cell_type": "markdown",
   "id": "5ab05723",
   "metadata": {
    "slideshow": {
     "slide_type": "slide"
    }
   },
   "source": [
    "### Generalization\n",
    "\n",
    "<hr style=\"border:2px solid gray\">\n",
    "\n",
    "* Divide the data into training and test sets: $\\mathcal{D}_{\\text{train}}$ and $\\mathcal{D}_{\\text{test}}$ \n",
    "\n",
    "<img src=\"train_test.png\" width=300 height=200 align=\"right\">\n",
    "\n",
    "* Train your model using the training set and test it using the test set\n",
    "\n",
    "* Training risk: $\\mathcal{L}_{\\text{train}}:=\\frac{1}{|\\mathcal{D}_{\\text{train}}|}\\sum_{(\\mathbf{x},y)\\in\\mathcal{D}_{\\text{train}}}l(y,f(\\mathbf{x};\\boldsymbol{\\theta}))$\n",
    "\n",
    "* Test risk: $\\mathcal{L}_{\\text{test}}:=\\frac{1}{|\\mathcal{D}_{\\text{test}}|}\\sum_{(\\mathbf{x},y)\\in\\mathcal{D}_{\\text{test}}}l(y,f(\\mathbf{x};\\boldsymbol{\\theta}))$\n",
    "\n",
    "* Overfitting happens when $\\mathcal{L}_{\\text{test}}\\gg \\mathcal{L}_{\\text{train}}$\n",
    "\n",
    "\n"
   ]
  },
  {
   "cell_type": "markdown",
   "id": "fdebd9bc",
   "metadata": {
    "slideshow": {
     "slide_type": "slide"
    }
   },
   "source": [
    "### Hyperparameter tuning and model selection\n",
    "\n",
    "<hr style=\"border:2px solid gray\">\n",
    "\n",
    "* We should not measure the generalization error *multiple times* on the test set\n",
    "    * Otherwise, we find the best model for the designated test set (lack of generalization) \n",
    "    \n",
    "* There are two parts to solving a prediction problem\n",
    "    * model selection\n",
    "        + We estimate the performance of various competing models with the hope of choosing the best one for the validation or development set \n",
    "    * model assessment\n",
    "        + Having chosen the final model, we assess the model by estimating the the generalization error using the test set\n",
    "        \n",
    "<img src=\"model_selection.png\" width=400 height=400 align=\"center\">\n"
   ]
  },
  {
   "cell_type": "markdown",
   "id": "99e67bd9",
   "metadata": {
    "slideshow": {
     "slide_type": "slide"
    }
   },
   "source": [
    "### Review of Python libraries\n",
    "\n",
    "<hr style=\"border:2px solid gray\">\n",
    "\n",
    "* List, tuple, dictionary, for loop, if statement, and function \n",
    "* Object-oriented programming (OOP)\n",
    "    * How to define a class and create some objects\n",
    "* NumPy \n",
    "    * Represent vectors/matrices and perform linear algebra operations\n",
    "* Pandas \n",
    "    * Data structure containing labeled axes (rows and columns)\n"
   ]
  },
  {
   "cell_type": "code",
   "execution_count": 2,
   "id": "e6613639",
   "metadata": {
    "slideshow": {
     "slide_type": "slide"
    }
   },
   "outputs": [
    {
     "name": "stdout",
     "output_type": "stream",
     "text": [
      "[1, 'a', 5, 5.3] \n",
      " 4 \n",
      " 5 \n",
      " 5.3\n"
     ]
    }
   ],
   "source": [
    "#  List \n",
    "\n",
    "alist = [1, \"a\" , 5 , 5.3]\n",
    "\n",
    "print(alist, '\\n', len(alist), '\\n', alist[2], '\\n', alist[-1])"
   ]
  },
  {
   "cell_type": "code",
   "execution_count": 3,
   "id": "a13f4491",
   "metadata": {
    "slideshow": {
     "slide_type": "slide"
    }
   },
   "outputs": [
    {
     "name": "stdout",
     "output_type": "stream",
     "text": [
      "(1, 'a', 'string', 3) \t <class 'tuple'>\n",
      "a\n"
     ]
    }
   ],
   "source": [
    "# Tuples are just like lists with the exception that tuples cannot be changed once declared\n",
    "\n",
    "t = (1, \"a\", \"string\", 1+2)\n",
    "\n",
    "print(t, '\\t', type(t))\n",
    "\n",
    "print(t[1])"
   ]
  },
  {
   "cell_type": "code",
   "execution_count": 4,
   "id": "d56ad50e",
   "metadata": {
    "slideshow": {
     "slide_type": "slide"
    }
   },
   "outputs": [
    {
     "name": "stdout",
     "output_type": "stream",
     "text": [
      "{'fall': 50, 'spring': 80}\n",
      "50\n"
     ]
    }
   ],
   "source": [
    "# Dictionary holds key:value pairs\n",
    "# indexing is done with the help of keys\n",
    "\n",
    "d = {}\n",
    "\n",
    "d[\"fall\"] = 50 \n",
    "\n",
    "d[\"spring\"] = 80\n",
    "\n",
    "print(d)\n",
    "\n",
    "print(d[\"fall\"])"
   ]
  },
  {
   "cell_type": "code",
   "execution_count": 5,
   "id": "fa8428c4",
   "metadata": {
    "slideshow": {
     "slide_type": "slide"
    }
   },
   "outputs": [
    {
     "name": "stdout",
     "output_type": "stream",
     "text": [
      "1\n",
      "3\n",
      "5\n",
      "7\n",
      "9\n"
     ]
    }
   ],
   "source": [
    "# for loop \n",
    "\n",
    "alist = [1, 3, 5, 7, 9]\n",
    "\n",
    "# Method 1\n",
    "\n",
    "for item in alist:\n",
    "    \n",
    "    print(item)"
   ]
  },
  {
   "cell_type": "code",
   "execution_count": 6,
   "id": "f8cd4fee",
   "metadata": {
    "slideshow": {
     "slide_type": "slide"
    }
   },
   "outputs": [
    {
     "data": {
      "text/plain": [
       "[0, 1, 2, 3, 4]"
      ]
     },
     "execution_count": 6,
     "metadata": {},
     "output_type": "execute_result"
    }
   ],
   "source": [
    "list(range(len(alist)))"
   ]
  },
  {
   "cell_type": "code",
   "execution_count": 7,
   "id": "f264ee2a",
   "metadata": {
    "slideshow": {
     "slide_type": "fragment"
    }
   },
   "outputs": [
    {
     "name": "stdout",
     "output_type": "stream",
     "text": [
      "1\n",
      "3\n",
      "5\n",
      "7\n",
      "9\n"
     ]
    }
   ],
   "source": [
    "# Method 2 \n",
    "\n",
    "for index in range(len(alist)):\n",
    "    \n",
    "    print(alist[index])"
   ]
  },
  {
   "cell_type": "code",
   "execution_count": 8,
   "id": "1951fca9",
   "metadata": {
    "slideshow": {
     "slide_type": "slide"
    }
   },
   "outputs": [
    {
     "name": "stdout",
     "output_type": "stream",
     "text": [
      "Positive\n"
     ]
    }
   ],
   "source": [
    "# if statement\n",
    "\n",
    "x = 5\n",
    "\n",
    "if x < 0:\n",
    "    print('Negative')\n",
    "elif x == 0:\n",
    "    print('Zero')\n",
    "else:\n",
    "    print('Positive')"
   ]
  },
  {
   "cell_type": "code",
   "execution_count": 9,
   "id": "bd58c59e",
   "metadata": {
    "slideshow": {
     "slide_type": "slide"
    }
   },
   "outputs": [],
   "source": [
    "# defining functions \n",
    "\n",
    "def square(num):\n",
    "    num_new = num ** 2\n",
    "    return num_new"
   ]
  },
  {
   "cell_type": "code",
   "execution_count": 10,
   "id": "92e85513",
   "metadata": {
    "slideshow": {
     "slide_type": "fragment"
    }
   },
   "outputs": [
    {
     "name": "stdout",
     "output_type": "stream",
     "text": [
      "16\n"
     ]
    }
   ],
   "source": [
    "print(square(4))"
   ]
  },
  {
   "cell_type": "code",
   "execution_count": 11,
   "id": "88c1ee40",
   "metadata": {
    "slideshow": {
     "slide_type": "fragment"
    }
   },
   "outputs": [],
   "source": [
    "def square(num):\n",
    "    '''\n",
    "    Calculate a number raise to the power of 2.   \n",
    "    '''\n",
    "    # this is comment \n",
    "    num_new = num ** 2\n",
    "    return num_new"
   ]
  },
  {
   "cell_type": "code",
   "execution_count": 12,
   "id": "525e864b",
   "metadata": {
    "slideshow": {
     "slide_type": "slide"
    }
   },
   "outputs": [],
   "source": [
    "# More than one output \n",
    "\n",
    "def square_cube(num):\n",
    "    '''\n",
    "    Calculate a number raise to the power of 2\n",
    "    Calculate a number raise to the power of 3\n",
    "    '''\n",
    "    num_new1 = num ** 2\n",
    "    num_new2 = num ** 3\n",
    "    return num_new1, num_new2"
   ]
  },
  {
   "cell_type": "code",
   "execution_count": 13,
   "id": "159135b8",
   "metadata": {
    "slideshow": {
     "slide_type": "fragment"
    }
   },
   "outputs": [
    {
     "name": "stdout",
     "output_type": "stream",
     "text": [
      "(9, 27) <class 'tuple'>\n"
     ]
    }
   ],
   "source": [
    "result = square_cube(3)\n",
    "\n",
    "print(result, type(result))"
   ]
  },
  {
   "cell_type": "markdown",
   "id": "24a8fd9f",
   "metadata": {
    "slideshow": {
     "slide_type": "slide"
    }
   },
   "source": [
    "### Object-oriented programming (OOP)\n",
    "\n",
    "<hr style=\"border:2px solid gray\">\n",
    "\n",
    "* Ideal for building versatile and reusable tools/frameworks \n",
    "* Code as a collection and interaction of **objects**\n",
    "* Object: a data structure incorporating information about \n",
    "    + State: How the object looks or what properties it has\n",
    "    + Behavior: What the object does or how to operate on\n",
    "        + Python: State --> Attribute (variable), Behavior --> Method (function)\n",
    "* Class: Blueprint or template for objects outlining possible states and behaviors "
   ]
  },
  {
   "cell_type": "code",
   "execution_count": 14,
   "id": "601df5bd",
   "metadata": {
    "slideshow": {
     "slide_type": "slide"
    }
   },
   "outputs": [],
   "source": [
    "class CUDenverStudent: \n",
    "    def set_name(self, new_name):\n",
    "        self.name = new_name \n",
    "        \n",
    "    def set_grade(self, new_grade):\n",
    "        self.grade = new_grade \n",
    "        \n",
    "    def give_bonus(self, amount):\n",
    "        self.grade += amount"
   ]
  },
  {
   "cell_type": "code",
   "execution_count": 15,
   "id": "61e29918",
   "metadata": {
    "slideshow": {
     "slide_type": "fragment"
    }
   },
   "outputs": [
    {
     "name": "stdout",
     "output_type": "stream",
     "text": [
      "93\n"
     ]
    }
   ],
   "source": [
    "student = CUDenverStudent()\n",
    "\n",
    "student.set_name(\"Sarah\")\n",
    "\n",
    "student.set_grade(93)\n",
    "\n",
    "print(student.grade)"
   ]
  },
  {
   "cell_type": "code",
   "execution_count": 16,
   "id": "177657cc",
   "metadata": {
    "slideshow": {
     "slide_type": "slide"
    }
   },
   "outputs": [
    {
     "name": "stdout",
     "output_type": "stream",
     "text": [
      "100\n"
     ]
    }
   ],
   "source": [
    "student.give_bonus(7)\n",
    "\n",
    "print(student.grade)"
   ]
  },
  {
   "cell_type": "code",
   "execution_count": 17,
   "id": "2247dbcb",
   "metadata": {
    "slideshow": {
     "slide_type": "fragment"
    }
   },
   "outputs": [],
   "source": [
    "# Constructor __init__() method is called every time an object is created \n",
    "\n",
    "class CUDenverStudent: \n",
    "    def __init__(self, new_name, new_grade=0):\n",
    "        self.name = new_name \n",
    "        self.grade = new_grade\n",
    "        \n",
    "    def give_bonus(self, amount):\n",
    "        self.grade += amount"
   ]
  },
  {
   "cell_type": "code",
   "execution_count": 18,
   "id": "470bb856",
   "metadata": {
    "slideshow": {
     "slide_type": "fragment"
    }
   },
   "outputs": [
    {
     "name": "stdout",
     "output_type": "stream",
     "text": [
      "Sarah 0\n"
     ]
    }
   ],
   "source": [
    "student = CUDenverStudent(new_name=\"Sarah\")\n",
    "\n",
    "print(student.name, student.grade)"
   ]
  },
  {
   "cell_type": "markdown",
   "id": "a5e44a11",
   "metadata": {
    "slideshow": {
     "slide_type": "slide"
    }
   },
   "source": [
    "### NumPy\n",
    "\n",
    "<hr style=\"border:2px solid gray\">\n",
    "\n",
    "* 1D (vector) and 2D arrays (matrix)\n",
    "$$\\mathbf{a}=\\begin{bmatrix}a_1\\\\a_2\\\\\\vdots\\\\a_n\\end{bmatrix}\\in\\mathbb{R}^n,\\;\\mathbf{A}=\\begin{bmatrix}a_{11}&\\ldots&a_{1m}\\\\\n",
    "\\vdots&&\\vdots\\\\a_{n1}&&a_{nm}\\end{bmatrix}\\in\\mathbb{R}^{n\\times m}$$\n"
   ]
  },
  {
   "cell_type": "code",
   "execution_count": 19,
   "id": "49e4eed0",
   "metadata": {
    "slideshow": {
     "slide_type": "fragment"
    }
   },
   "outputs": [
    {
     "name": "stdout",
     "output_type": "stream",
     "text": [
      "(4,) (2, 2) <class 'numpy.ndarray'>\n"
     ]
    }
   ],
   "source": [
    "import numpy as np \n",
    "\n",
    "a = np.array([1,2,3,4])\n",
    "\n",
    "A = np.array([[1,2], [3,4]])\n",
    "\n",
    "print(a.shape, A.shape, type(a))"
   ]
  },
  {
   "cell_type": "code",
   "execution_count": 20,
   "id": "65d2889d",
   "metadata": {},
   "outputs": [
    {
     "data": {
      "text/plain": [
       "1"
      ]
     },
     "execution_count": 20,
     "metadata": {},
     "output_type": "execute_result"
    }
   ],
   "source": [
    "a.ndim"
   ]
  },
  {
   "cell_type": "code",
   "execution_count": 21,
   "id": "f9fb6d76",
   "metadata": {},
   "outputs": [
    {
     "data": {
      "text/plain": [
       "2"
      ]
     },
     "execution_count": 21,
     "metadata": {},
     "output_type": "execute_result"
    }
   ],
   "source": [
    "A.ndim"
   ]
  },
  {
   "cell_type": "code",
   "execution_count": 22,
   "id": "dbbf4df6",
   "metadata": {
    "slideshow": {
     "slide_type": "slide"
    }
   },
   "outputs": [
    {
     "name": "stdout",
     "output_type": "stream",
     "text": [
      "[1 2 3 4] (4,)\n"
     ]
    }
   ],
   "source": [
    "# reshape\n",
    "\n",
    "b = A.reshape(4,)\n",
    "\n",
    "print(b, b.shape)"
   ]
  },
  {
   "cell_type": "code",
   "execution_count": 23,
   "id": "8387d9e8",
   "metadata": {
    "slideshow": {
     "slide_type": "fragment"
    }
   },
   "outputs": [
    {
     "data": {
      "text/plain": [
       "True"
      ]
     },
     "execution_count": 23,
     "metadata": {},
     "output_type": "execute_result"
    }
   ],
   "source": [
    "# True if two arrays have the same shape and elements\n",
    "\n",
    "np.array_equal(a, b)"
   ]
  },
  {
   "cell_type": "code",
   "execution_count": 24,
   "id": "df9e098e",
   "metadata": {
    "slideshow": {
     "slide_type": "fragment"
    }
   },
   "outputs": [
    {
     "name": "stdout",
     "output_type": "stream",
     "text": [
      "[[1 2]\n",
      " [3 4]] \n",
      "\n",
      " [[1 3]\n",
      " [2 4]]\n"
     ]
    }
   ],
   "source": [
    "# transpose a matrix by switching its rows with its columns\n",
    "\n",
    "print(A, '\\n\\n', np.transpose(A))"
   ]
  },
  {
   "cell_type": "code",
   "execution_count": 25,
   "id": "5319df3c",
   "metadata": {},
   "outputs": [
    {
     "data": {
      "text/plain": [
       "array([[1, 3],\n",
       "       [2, 4]])"
      ]
     },
     "execution_count": 25,
     "metadata": {},
     "output_type": "execute_result"
    }
   ],
   "source": [
    "A.T"
   ]
  },
  {
   "cell_type": "code",
   "execution_count": 26,
   "id": "5c468150",
   "metadata": {
    "slideshow": {
     "slide_type": "fragment"
    }
   },
   "outputs": [
    {
     "name": "stdout",
     "output_type": "stream",
     "text": [
      "5.0\n"
     ]
    }
   ],
   "source": [
    "x = np.array([3, 4])\n",
    "\n",
    "from numpy import linalg # implementations of standard linear algebra algorithms\n",
    "\n",
    "print(linalg.norm(x))"
   ]
  },
  {
   "cell_type": "markdown",
   "id": "e2264f34",
   "metadata": {
    "slideshow": {
     "slide_type": "slide"
    }
   },
   "source": [
    "### Dot product or inner product\n",
    "<hr style=\"border:2px solid gray\">\n",
    "\n",
    "$$\\langle\\mathbf{x},\\mathbf{y}\\rangle=\\sum_{i=1}^n x_iy_i$$"
   ]
  },
  {
   "cell_type": "code",
   "execution_count": 27,
   "id": "abd984ff",
   "metadata": {
    "slideshow": {
     "slide_type": "fragment"
    }
   },
   "outputs": [
    {
     "data": {
      "text/plain": [
       "18"
      ]
     },
     "execution_count": 27,
     "metadata": {},
     "output_type": "execute_result"
    }
   ],
   "source": [
    "y = np.array([2,3])\n",
    "\n",
    "np.dot(x, y)"
   ]
  },
  {
   "cell_type": "code",
   "execution_count": 28,
   "id": "0a82bd32",
   "metadata": {
    "slideshow": {
     "slide_type": "fragment"
    }
   },
   "outputs": [
    {
     "data": {
      "text/plain": [
       "25"
      ]
     },
     "execution_count": 28,
     "metadata": {},
     "output_type": "execute_result"
    }
   ],
   "source": [
    "# norm of x squared \n",
    "np.dot(x, x)"
   ]
  },
  {
   "cell_type": "markdown",
   "id": "4c92aab8",
   "metadata": {
    "slideshow": {
     "slide_type": "slide"
    }
   },
   "source": [
    "### Matrix multiplication\n",
    "<hr style=\"border:2px solid gray\">\n",
    "\n",
    "* Method 1 \n",
    "$$\\begin{bmatrix}a_{11} & \\ldots & a_{1n}\\\\\\vdots & & \\vdots\\\\a_{m1}&\\ldots &a_{mn}\\end{bmatrix}\\begin{bmatrix}x_1\\\\\\vdots\\\\x_n\\end{bmatrix}=x_1\\begin{bmatrix}a_{11}\\\\\\vdots\\\\a_{m1}\\end{bmatrix}+\\ldots+x_n\\begin{bmatrix}a_{1n}\\\\\\vdots\\\\a_{mn}\\end{bmatrix}$$\n",
    "\n",
    "* Method 2\n",
    "$$\\begin{bmatrix}a_{11} & \\ldots & a_{1n}\\\\\\vdots & & \\vdots\\\\a_{m1}&\\ldots &a_{mn}\\end{bmatrix}\\begin{bmatrix}x_1\\\\\\vdots\\\\x_n\\end{bmatrix}=\\begin{bmatrix}\\sum_{i=1}^n a_{1i}x_i\\\\\\vdots\\\\\\sum_{i=1}^na_{mi}x_i\\end{bmatrix}$$"
   ]
  },
  {
   "cell_type": "code",
   "execution_count": 29,
   "id": "89e70596",
   "metadata": {
    "slideshow": {
     "slide_type": "slide"
    }
   },
   "outputs": [
    {
     "name": "stdout",
     "output_type": "stream",
     "text": [
      "[[25]\n",
      " [58]]\n"
     ]
    }
   ],
   "source": [
    "A = np.array([[1,2,3],[4,5,6]])\n",
    "\n",
    "x = np.array([[2],[4],[5]]) \n",
    "\n",
    "z = np.matmul(A,x)\n",
    "\n",
    "print(z)"
   ]
  },
  {
   "cell_type": "markdown",
   "id": "c5776ca2",
   "metadata": {
    "slideshow": {
     "slide_type": "slide"
    }
   },
   "source": [
    "### Pandas\n",
    "<hr style=\"border:2px solid gray\">\n",
    "\n",
    "* Provides high performance, fast, easy-to-use data structures, and data analysis tools for manipulating tabular data\n",
    "\n",
    "* Dataframe\n",
    "    + A two dimensional data structure with columns of potentially different types"
   ]
  },
  {
   "cell_type": "code",
   "execution_count": 30,
   "id": "d4f8191d",
   "metadata": {
    "slideshow": {
     "slide_type": "slide"
    }
   },
   "outputs": [
    {
     "data": {
      "text/html": [
       "<div>\n",
       "<style scoped>\n",
       "    .dataframe tbody tr th:only-of-type {\n",
       "        vertical-align: middle;\n",
       "    }\n",
       "\n",
       "    .dataframe tbody tr th {\n",
       "        vertical-align: top;\n",
       "    }\n",
       "\n",
       "    .dataframe thead th {\n",
       "        text-align: right;\n",
       "    }\n",
       "</style>\n",
       "<table border=\"1\" class=\"dataframe\">\n",
       "  <thead>\n",
       "    <tr style=\"text-align: right;\">\n",
       "      <th></th>\n",
       "      <th>Country</th>\n",
       "      <th>GDP per capita (USD)</th>\n",
       "      <th>Life satisfaction</th>\n",
       "    </tr>\n",
       "  </thead>\n",
       "  <tbody>\n",
       "    <tr>\n",
       "      <th>0</th>\n",
       "      <td>Russia</td>\n",
       "      <td>26456.387938</td>\n",
       "      <td>5.8</td>\n",
       "    </tr>\n",
       "    <tr>\n",
       "      <th>1</th>\n",
       "      <td>Greece</td>\n",
       "      <td>27287.083401</td>\n",
       "      <td>5.4</td>\n",
       "    </tr>\n",
       "    <tr>\n",
       "      <th>2</th>\n",
       "      <td>Turkey</td>\n",
       "      <td>28384.987785</td>\n",
       "      <td>5.5</td>\n",
       "    </tr>\n",
       "    <tr>\n",
       "      <th>3</th>\n",
       "      <td>Latvia</td>\n",
       "      <td>29932.493910</td>\n",
       "      <td>5.9</td>\n",
       "    </tr>\n",
       "    <tr>\n",
       "      <th>4</th>\n",
       "      <td>Hungary</td>\n",
       "      <td>31007.768407</td>\n",
       "      <td>5.6</td>\n",
       "    </tr>\n",
       "  </tbody>\n",
       "</table>\n",
       "</div>"
      ],
      "text/plain": [
       "   Country  GDP per capita (USD)  Life satisfaction\n",
       "0   Russia          26456.387938                5.8\n",
       "1   Greece          27287.083401                5.4\n",
       "2   Turkey          28384.987785                5.5\n",
       "3   Latvia          29932.493910                5.9\n",
       "4  Hungary          31007.768407                5.6"
      ]
     },
     "execution_count": 30,
     "metadata": {},
     "output_type": "execute_result"
    }
   ],
   "source": [
    "# Read CSV File into Python using Pandas\n",
    "import numpy as np \n",
    "import pandas as pd\n",
    "\n",
    "# use this link \n",
    "#df = pd.read_csv(\"https://github.com/ageron/data/raw/main/lifesat/lifesat.csv\")\n",
    "\n",
    "# or, the existing data set \n",
    "df = pd.read_csv(\"life_satisfaction.csv\", index_col=0)\n",
    "                 \n",
    "df.head()"
   ]
  },
  {
   "cell_type": "code",
   "execution_count": 31,
   "id": "f9f486c3",
   "metadata": {
    "slideshow": {
     "slide_type": "fragment"
    }
   },
   "outputs": [
    {
     "data": {
      "text/plain": [
       "Index(['Country', 'GDP per capita (USD)', 'Life satisfaction'], dtype='object')"
      ]
     },
     "execution_count": 31,
     "metadata": {},
     "output_type": "execute_result"
    }
   ],
   "source": [
    "df.columns"
   ]
  },
  {
   "cell_type": "code",
   "execution_count": 32,
   "id": "46606680",
   "metadata": {
    "slideshow": {
     "slide_type": "fragment"
    }
   },
   "outputs": [
    {
     "data": {
      "text/plain": [
       "(27, 3)"
      ]
     },
     "execution_count": 32,
     "metadata": {},
     "output_type": "execute_result"
    }
   ],
   "source": [
    "df.shape"
   ]
  },
  {
   "cell_type": "markdown",
   "id": "3338a67c",
   "metadata": {
    "slideshow": {
     "slide_type": "slide"
    }
   },
   "source": [
    "### Find inputs and outputs \n",
    "<hr style=\"border:2px solid gray\">\n",
    "\n",
    "* Can we predict the life satisfaction score based on the GDP of a country?\n",
    "\n",
    "<img src=\"Mlsystem.png\" width=400 height=400 align=\"center\">\n"
   ]
  },
  {
   "cell_type": "code",
   "execution_count": 33,
   "id": "0de47514",
   "metadata": {
    "slideshow": {
     "slide_type": "fragment"
    }
   },
   "outputs": [
    {
     "data": {
      "text/plain": [
       "((27, 1), (27, 1))"
      ]
     },
     "execution_count": 33,
     "metadata": {},
     "output_type": "execute_result"
    }
   ],
   "source": [
    "X = df[[\"GDP per capita (USD)\"]].to_numpy()\n",
    "\n",
    "y = df[[\"Life satisfaction\"]].to_numpy()\n",
    "\n",
    "X.shape, y.shape"
   ]
  },
  {
   "cell_type": "code",
   "execution_count": 34,
   "id": "b6d17f30",
   "metadata": {},
   "outputs": [
    {
     "data": {
      "text/plain": [
       "(2, 2)"
      ]
     },
     "execution_count": 34,
     "metadata": {},
     "output_type": "execute_result"
    }
   ],
   "source": [
    "X.ndim, y.ndim"
   ]
  },
  {
   "cell_type": "code",
   "execution_count": 35,
   "id": "6b587f9e",
   "metadata": {},
   "outputs": [],
   "source": [
    "y = y.ravel()"
   ]
  },
  {
   "cell_type": "code",
   "execution_count": 36,
   "id": "7314f43c",
   "metadata": {},
   "outputs": [
    {
     "data": {
      "text/plain": [
       "(27,)"
      ]
     },
     "execution_count": 36,
     "metadata": {},
     "output_type": "execute_result"
    }
   ],
   "source": [
    "y.shape"
   ]
  },
  {
   "cell_type": "code",
   "execution_count": 37,
   "id": "503ac2c8",
   "metadata": {
    "slideshow": {
     "slide_type": "slide"
    }
   },
   "outputs": [
    {
     "data": {
      "image/png": "[encoded data removed]",
      "text/plain": [
       "<Figure size 600x300 with 1 Axes>"
      ]
     },
     "metadata": {},
     "output_type": "display_data"
    }
   ],
   "source": [
    "import matplotlib.pyplot as plt \n",
    "\n",
    "plt.rcParams.update({'font.size': 12, \"figure.figsize\": (6,3)})\n",
    "plt.scatter(X, y, s=20)\n",
    "plt.xlabel('GDP')\n",
    "plt.ylabel('life satisfaction')\n",
    "plt.show()"
   ]
  },
  {
   "cell_type": "markdown",
   "id": "3f5dc9b6",
   "metadata": {
    "slideshow": {
     "slide_type": "slide"
    }
   },
   "source": [
    "### Using sklearn \n",
    "\n",
    "https://scikit-learn.org/stable/modules/generated/sklearn.linear_model.LinearRegression.html\n",
    "\n",
    "\n"
   ]
  },
  {
   "cell_type": "code",
   "execution_count": 38,
   "id": "f5d7ad91",
   "metadata": {
    "slideshow": {
     "slide_type": "slide"
    }
   },
   "outputs": [
    {
     "data": {
      "text/html": [
       "<style>#sk-container-id-1 {color: black;background-color: white;}#sk-container-id-1 pre{padding: 0;}#sk-container-id-1 div.sk-toggleable {background-color: white;}#sk-container-id-1 label.sk-toggleable__label {cursor: pointer;display: block;width: 100%;margin-bottom: 0;padding: 0.3em;box-sizing: border-box;text-align: center;}#sk-container-id-1 label.sk-toggleable__label-arrow:before {content: \"▸\";float: left;margin-right: 0.25em;color: #696969;}#sk-container-id-1 label.sk-toggleable__label-arrow:hover:before {color: black;}#sk-container-id-1 div.sk-estimator:hover label.sk-toggleable__label-arrow:before {color: black;}#sk-container-id-1 div.sk-toggleable__content {max-height: 0;max-width: 0;overflow: hidden;text-align: left;background-color: #f0f8ff;}#sk-container-id-1 div.sk-toggleable__content pre {margin: 0.2em;color: black;border-radius: 0.25em;background-color: #f0f8ff;}#sk-container-id-1 input.sk-toggleable__control:checked~div.sk-toggleable__content {max-height: 200px;max-width: 100%;overflow: auto;}#sk-container-id-1 input.sk-toggleable__control:checked~label.sk-toggleable__label-arrow:before {content: \"▾\";}#sk-container-id-1 div.sk-estimator input.sk-toggleable__control:checked~label.sk-toggleable__label {background-color: #d4ebff;}#sk-container-id-1 div.sk-label input.sk-toggleable__control:checked~label.sk-toggleable__label {background-color: #d4ebff;}#sk-container-id-1 input.sk-hidden--visually {border: 0;clip: rect(1px 1px 1px 1px);clip: rect(1px, 1px, 1px, 1px);height: 1px;margin: -1px;overflow: hidden;padding: 0;position: absolute;width: 1px;}#sk-container-id-1 div.sk-estimator {font-family: monospace;background-color: #f0f8ff;border: 1px dotted black;border-radius: 0.25em;box-sizing: border-box;margin-bottom: 0.5em;}#sk-container-id-1 div.sk-estimator:hover {background-color: #d4ebff;}#sk-container-id-1 div.sk-parallel-item::after {content: \"\";width: 100%;border-bottom: 1px solid gray;flex-grow: 1;}#sk-container-id-1 div.sk-label:hover label.sk-toggleable__label {background-color: #d4ebff;}#sk-container-id-1 div.sk-serial::before {content: \"\";position: absolute;border-left: 1px solid gray;box-sizing: border-box;top: 0;bottom: 0;left: 50%;z-index: 0;}#sk-container-id-1 div.sk-serial {display: flex;flex-direction: column;align-items: center;background-color: white;padding-right: 0.2em;padding-left: 0.2em;position: relative;}#sk-container-id-1 div.sk-item {position: relative;z-index: 1;}#sk-container-id-1 div.sk-parallel {display: flex;align-items: stretch;justify-content: center;background-color: white;position: relative;}#sk-container-id-1 div.sk-item::before, #sk-container-id-1 div.sk-parallel-item::before {content: \"\";position: absolute;border-left: 1px solid gray;box-sizing: border-box;top: 0;bottom: 0;left: 50%;z-index: -1;}#sk-container-id-1 div.sk-parallel-item {display: flex;flex-direction: column;z-index: 1;position: relative;background-color: white;}#sk-container-id-1 div.sk-parallel-item:first-child::after {align-self: flex-end;width: 50%;}#sk-container-id-1 div.sk-parallel-item:last-child::after {align-self: flex-start;width: 50%;}#sk-container-id-1 div.sk-parallel-item:only-child::after {width: 0;}#sk-container-id-1 div.sk-dashed-wrapped {border: 1px dashed gray;margin: 0 0.4em 0.5em 0.4em;box-sizing: border-box;padding-bottom: 0.4em;background-color: white;}#sk-container-id-1 div.sk-label label {font-family: monospace;font-weight: bold;display: inline-block;line-height: 1.2em;}#sk-container-id-1 div.sk-label-container {text-align: center;}#sk-container-id-1 div.sk-container {/* jupyter's `normalize.less` sets `[hidden] { display: none; }` but bootstrap.min.css set `[hidden] { display: none !important; }` so we also need the `!important` here to be able to override the default hidden behavior on the sphinx rendered scikit-learn.org. See: https://github.com/scikit-learn/scikit-learn/issues/21755 */display: inline-block !important;position: relative;}#sk-container-id-1 div.sk-text-repr-fallback {display: none;}</style><div id=\"sk-container-id-1\" class=\"sk-top-container\"><div class=\"sk-text-repr-fallback\"><pre>LinearRegression()</pre><b>In a Jupyter environment, please rerun this cell to show the HTML representation or trust the notebook. <br />On GitHub, the HTML representation is unable to render, please try loading this page with nbviewer.org.</b></div><div class=\"sk-container\" hidden><div class=\"sk-item\"><div class=\"sk-estimator sk-toggleable\"><input class=\"sk-toggleable__control sk-hidden--visually\" id=\"sk-estimator-id-1\" type=\"checkbox\" checked><label for=\"sk-estimator-id-1\" class=\"sk-toggleable__label sk-toggleable__label-arrow\">LinearRegression</label><div class=\"sk-toggleable__content\"><pre>LinearRegression()</pre></div></div></div></div></div>"
      ],
      "text/plain": [
       "LinearRegression()"
      ]
     },
     "execution_count": 38,
     "metadata": {},
     "output_type": "execute_result"
    }
   ],
   "source": [
    "from sklearn.linear_model import LinearRegression\n",
    "\n",
    "reg = LinearRegression()\n",
    "\n",
    "reg.fit(X, y)"
   ]
  },
  {
   "cell_type": "code",
   "execution_count": 39,
   "id": "15064d3b",
   "metadata": {},
   "outputs": [
    {
     "name": "stdout",
     "output_type": "stream",
     "text": [
      "3.7490494273769075 [6.77889969e-05]\n"
     ]
    }
   ],
   "source": [
    "print(reg.intercept_, reg.coef_)"
   ]
  },
  {
   "cell_type": "code",
   "execution_count": 40,
   "id": "e119f70d",
   "metadata": {},
   "outputs": [
    {
     "data": {
      "image/png": "[encoded data removed]",
      "text/plain": [
       "<Figure size 600x300 with 1 Axes>"
      ]
     },
     "metadata": {},
     "output_type": "display_data"
    }
   ],
   "source": [
    "plt.rcParams.update({'font.size': 12, \"figure.figsize\": (6,3)})\n",
    "plt.scatter(X, y, s=20)\n",
    "plt.plot([X.min(), X.max()],[X.min()*reg.coef_[0] + reg.intercept_, X.max()*reg.coef_[0] + reg.intercept_], 'r')\n",
    "plt.xlabel('GDP')\n",
    "plt.ylabel('life satisfaction')\n",
    "plt.show()"
   ]
  },
  {
   "cell_type": "code",
   "execution_count": 41,
   "id": "9cd6e78c",
   "metadata": {
    "slideshow": {
     "slide_type": "slide"
    }
   },
   "outputs": [
    {
     "data": {
      "text/html": [
       "<div>\n",
       "<style scoped>\n",
       "    .dataframe tbody tr th:only-of-type {\n",
       "        vertical-align: middle;\n",
       "    }\n",
       "\n",
       "    .dataframe tbody tr th {\n",
       "        vertical-align: top;\n",
       "    }\n",
       "\n",
       "    .dataframe thead th {\n",
       "        text-align: right;\n",
       "    }\n",
       "</style>\n",
       "<table border=\"1\" class=\"dataframe\">\n",
       "  <thead>\n",
       "    <tr style=\"text-align: right;\">\n",
       "      <th></th>\n",
       "      <th>GDP per capita (USD)</th>\n",
       "      <th>Life satisfaction</th>\n",
       "    </tr>\n",
       "  </thead>\n",
       "  <tbody>\n",
       "    <tr>\n",
       "      <th>count</th>\n",
       "      <td>27.000000</td>\n",
       "      <td>27.000000</td>\n",
       "    </tr>\n",
       "    <tr>\n",
       "      <th>mean</th>\n",
       "      <td>41564.521771</td>\n",
       "      <td>6.566667</td>\n",
       "    </tr>\n",
       "    <tr>\n",
       "      <th>std</th>\n",
       "      <td>9631.452319</td>\n",
       "      <td>0.765607</td>\n",
       "    </tr>\n",
       "    <tr>\n",
       "      <th>min</th>\n",
       "      <td>26456.387938</td>\n",
       "      <td>5.400000</td>\n",
       "    </tr>\n",
       "    <tr>\n",
       "      <th>25%</th>\n",
       "      <td>33938.289305</td>\n",
       "      <td>5.900000</td>\n",
       "    </tr>\n",
       "    <tr>\n",
       "      <th>50%</th>\n",
       "      <td>41627.129269</td>\n",
       "      <td>6.800000</td>\n",
       "    </tr>\n",
       "    <tr>\n",
       "      <th>75%</th>\n",
       "      <td>49690.580269</td>\n",
       "      <td>7.300000</td>\n",
       "    </tr>\n",
       "    <tr>\n",
       "      <th>max</th>\n",
       "      <td>60235.728492</td>\n",
       "      <td>7.600000</td>\n",
       "    </tr>\n",
       "  </tbody>\n",
       "</table>\n",
       "</div>"
      ],
      "text/plain": [
       "       GDP per capita (USD)  Life satisfaction\n",
       "count             27.000000          27.000000\n",
       "mean           41564.521771           6.566667\n",
       "std             9631.452319           0.765607\n",
       "min            26456.387938           5.400000\n",
       "25%            33938.289305           5.900000\n",
       "50%            41627.129269           6.800000\n",
       "75%            49690.580269           7.300000\n",
       "max            60235.728492           7.600000"
      ]
     },
     "execution_count": 41,
     "metadata": {},
     "output_type": "execute_result"
    }
   ],
   "source": [
    "# Descriptive statistics\n",
    "\n",
    "df.describe()"
   ]
  },
  {
   "cell_type": "code",
   "execution_count": 42,
   "id": "d1649020",
   "metadata": {
    "slideshow": {
     "slide_type": "slide"
    }
   },
   "outputs": [
    {
     "data": {
      "text/plain": [
       "0     False\n",
       "1     False\n",
       "2     False\n",
       "3     False\n",
       "4     False\n",
       "5     False\n",
       "6     False\n",
       "7     False\n",
       "8     False\n",
       "9     False\n",
       "10    False\n",
       "11    False\n",
       "12    False\n",
       "13    False\n",
       "14    False\n",
       "15    False\n",
       "16     True\n",
       "17     True\n",
       "18     True\n",
       "19     True\n",
       "20     True\n",
       "21     True\n",
       "22     True\n",
       "23     True\n",
       "24     True\n",
       "25     True\n",
       "26     True\n",
       "Name: GDP per capita (USD), dtype: bool"
      ]
     },
     "execution_count": 42,
     "metadata": {},
     "output_type": "execute_result"
    }
   ],
   "source": [
    "# Operations on DataFrame\n",
    "\n",
    "df[\"GDP per capita (USD)\"] > 45000"
   ]
  },
  {
   "cell_type": "code",
   "execution_count": 43,
   "id": "fe76b487",
   "metadata": {
    "slideshow": {
     "slide_type": "slide"
    }
   },
   "outputs": [
    {
     "data": {
      "text/html": [
       "<div>\n",
       "<style scoped>\n",
       "    .dataframe tbody tr th:only-of-type {\n",
       "        vertical-align: middle;\n",
       "    }\n",
       "\n",
       "    .dataframe tbody tr th {\n",
       "        vertical-align: top;\n",
       "    }\n",
       "\n",
       "    .dataframe thead th {\n",
       "        text-align: right;\n",
       "    }\n",
       "</style>\n",
       "<table border=\"1\" class=\"dataframe\">\n",
       "  <thead>\n",
       "    <tr style=\"text-align: right;\">\n",
       "      <th></th>\n",
       "      <th>Country</th>\n",
       "      <th>GDP per capita (USD)</th>\n",
       "      <th>Life satisfaction</th>\n",
       "    </tr>\n",
       "  </thead>\n",
       "  <tbody>\n",
       "    <tr>\n",
       "      <th>16</th>\n",
       "      <td>Canada</td>\n",
       "      <td>45856.625626</td>\n",
       "      <td>7.4</td>\n",
       "    </tr>\n",
       "    <tr>\n",
       "      <th>17</th>\n",
       "      <td>Finland</td>\n",
       "      <td>47260.800458</td>\n",
       "      <td>7.6</td>\n",
       "    </tr>\n",
       "    <tr>\n",
       "      <th>18</th>\n",
       "      <td>Belgium</td>\n",
       "      <td>48210.033111</td>\n",
       "      <td>6.9</td>\n",
       "    </tr>\n",
       "    <tr>\n",
       "      <th>19</th>\n",
       "      <td>Australia</td>\n",
       "      <td>48697.837028</td>\n",
       "      <td>7.3</td>\n",
       "    </tr>\n",
       "    <tr>\n",
       "      <th>20</th>\n",
       "      <td>Sweden</td>\n",
       "      <td>50683.323510</td>\n",
       "      <td>7.3</td>\n",
       "    </tr>\n",
       "    <tr>\n",
       "      <th>21</th>\n",
       "      <td>Germany</td>\n",
       "      <td>50922.358023</td>\n",
       "      <td>7.0</td>\n",
       "    </tr>\n",
       "    <tr>\n",
       "      <th>22</th>\n",
       "      <td>Austria</td>\n",
       "      <td>51935.603862</td>\n",
       "      <td>7.1</td>\n",
       "    </tr>\n",
       "    <tr>\n",
       "      <th>23</th>\n",
       "      <td>Iceland</td>\n",
       "      <td>52279.728851</td>\n",
       "      <td>7.5</td>\n",
       "    </tr>\n",
       "    <tr>\n",
       "      <th>24</th>\n",
       "      <td>Netherlands</td>\n",
       "      <td>54209.563836</td>\n",
       "      <td>7.4</td>\n",
       "    </tr>\n",
       "    <tr>\n",
       "      <th>25</th>\n",
       "      <td>Denmark</td>\n",
       "      <td>55938.212809</td>\n",
       "      <td>7.6</td>\n",
       "    </tr>\n",
       "    <tr>\n",
       "      <th>26</th>\n",
       "      <td>United States</td>\n",
       "      <td>60235.728492</td>\n",
       "      <td>6.9</td>\n",
       "    </tr>\n",
       "  </tbody>\n",
       "</table>\n",
       "</div>"
      ],
      "text/plain": [
       "          Country  GDP per capita (USD)  Life satisfaction\n",
       "16         Canada          45856.625626                7.4\n",
       "17        Finland          47260.800458                7.6\n",
       "18        Belgium          48210.033111                6.9\n",
       "19      Australia          48697.837028                7.3\n",
       "20         Sweden          50683.323510                7.3\n",
       "21        Germany          50922.358023                7.0\n",
       "22        Austria          51935.603862                7.1\n",
       "23        Iceland          52279.728851                7.5\n",
       "24    Netherlands          54209.563836                7.4\n",
       "25        Denmark          55938.212809                7.6\n",
       "26  United States          60235.728492                6.9"
      ]
     },
     "execution_count": 43,
     "metadata": {},
     "output_type": "execute_result"
    }
   ],
   "source": [
    "# select a subset of countries\n",
    "\n",
    "df[df[\"GDP per capita (USD)\"] > 45000]"
   ]
  },
  {
   "cell_type": "code",
   "execution_count": 44,
   "id": "29ea2bea",
   "metadata": {
    "slideshow": {
     "slide_type": "slide"
    }
   },
   "outputs": [
    {
     "data": {
      "text/html": [
       "<div>\n",
       "<style scoped>\n",
       "    .dataframe tbody tr th:only-of-type {\n",
       "        vertical-align: middle;\n",
       "    }\n",
       "\n",
       "    .dataframe tbody tr th {\n",
       "        vertical-align: top;\n",
       "    }\n",
       "\n",
       "    .dataframe thead th {\n",
       "        text-align: right;\n",
       "    }\n",
       "</style>\n",
       "<table border=\"1\" class=\"dataframe\">\n",
       "  <thead>\n",
       "    <tr style=\"text-align: right;\">\n",
       "      <th></th>\n",
       "      <th>Country</th>\n",
       "      <th>GDP per capita (USD)</th>\n",
       "      <th>Life satisfaction</th>\n",
       "    </tr>\n",
       "  </thead>\n",
       "  <tbody>\n",
       "    <tr>\n",
       "      <th>26</th>\n",
       "      <td>United States</td>\n",
       "      <td>60235.728492</td>\n",
       "      <td>6.9</td>\n",
       "    </tr>\n",
       "    <tr>\n",
       "      <th>25</th>\n",
       "      <td>Denmark</td>\n",
       "      <td>55938.212809</td>\n",
       "      <td>7.6</td>\n",
       "    </tr>\n",
       "    <tr>\n",
       "      <th>24</th>\n",
       "      <td>Netherlands</td>\n",
       "      <td>54209.563836</td>\n",
       "      <td>7.4</td>\n",
       "    </tr>\n",
       "    <tr>\n",
       "      <th>23</th>\n",
       "      <td>Iceland</td>\n",
       "      <td>52279.728851</td>\n",
       "      <td>7.5</td>\n",
       "    </tr>\n",
       "    <tr>\n",
       "      <th>22</th>\n",
       "      <td>Austria</td>\n",
       "      <td>51935.603862</td>\n",
       "      <td>7.1</td>\n",
       "    </tr>\n",
       "    <tr>\n",
       "      <th>21</th>\n",
       "      <td>Germany</td>\n",
       "      <td>50922.358023</td>\n",
       "      <td>7.0</td>\n",
       "    </tr>\n",
       "    <tr>\n",
       "      <th>20</th>\n",
       "      <td>Sweden</td>\n",
       "      <td>50683.323510</td>\n",
       "      <td>7.3</td>\n",
       "    </tr>\n",
       "    <tr>\n",
       "      <th>19</th>\n",
       "      <td>Australia</td>\n",
       "      <td>48697.837028</td>\n",
       "      <td>7.3</td>\n",
       "    </tr>\n",
       "    <tr>\n",
       "      <th>18</th>\n",
       "      <td>Belgium</td>\n",
       "      <td>48210.033111</td>\n",
       "      <td>6.9</td>\n",
       "    </tr>\n",
       "    <tr>\n",
       "      <th>17</th>\n",
       "      <td>Finland</td>\n",
       "      <td>47260.800458</td>\n",
       "      <td>7.6</td>\n",
       "    </tr>\n",
       "    <tr>\n",
       "      <th>16</th>\n",
       "      <td>Canada</td>\n",
       "      <td>45856.625626</td>\n",
       "      <td>7.4</td>\n",
       "    </tr>\n",
       "    <tr>\n",
       "      <th>15</th>\n",
       "      <td>New Zealand</td>\n",
       "      <td>42404.393738</td>\n",
       "      <td>7.3</td>\n",
       "    </tr>\n",
       "    <tr>\n",
       "      <th>14</th>\n",
       "      <td>France</td>\n",
       "      <td>42025.617373</td>\n",
       "      <td>6.5</td>\n",
       "    </tr>\n",
       "    <tr>\n",
       "      <th>13</th>\n",
       "      <td>United Kingdom</td>\n",
       "      <td>41627.129269</td>\n",
       "      <td>6.8</td>\n",
       "    </tr>\n",
       "    <tr>\n",
       "      <th>12</th>\n",
       "      <td>Italy</td>\n",
       "      <td>38992.148381</td>\n",
       "      <td>6.0</td>\n",
       "    </tr>\n",
       "    <tr>\n",
       "      <th>11</th>\n",
       "      <td>Israel</td>\n",
       "      <td>38341.307570</td>\n",
       "      <td>7.2</td>\n",
       "    </tr>\n",
       "    <tr>\n",
       "      <th>10</th>\n",
       "      <td>Lithuania</td>\n",
       "      <td>36732.034744</td>\n",
       "      <td>5.9</td>\n",
       "    </tr>\n",
       "    <tr>\n",
       "      <th>9</th>\n",
       "      <td>Slovenia</td>\n",
       "      <td>36547.738956</td>\n",
       "      <td>5.9</td>\n",
       "    </tr>\n",
       "    <tr>\n",
       "      <th>8</th>\n",
       "      <td>Spain</td>\n",
       "      <td>36215.447591</td>\n",
       "      <td>6.3</td>\n",
       "    </tr>\n",
       "    <tr>\n",
       "      <th>7</th>\n",
       "      <td>Estonia</td>\n",
       "      <td>35638.421351</td>\n",
       "      <td>5.7</td>\n",
       "    </tr>\n",
       "    <tr>\n",
       "      <th>6</th>\n",
       "      <td>Poland</td>\n",
       "      <td>32238.157259</td>\n",
       "      <td>6.1</td>\n",
       "    </tr>\n",
       "    <tr>\n",
       "      <th>5</th>\n",
       "      <td>Portugal</td>\n",
       "      <td>32181.154537</td>\n",
       "      <td>5.4</td>\n",
       "    </tr>\n",
       "    <tr>\n",
       "      <th>4</th>\n",
       "      <td>Hungary</td>\n",
       "      <td>31007.768407</td>\n",
       "      <td>5.6</td>\n",
       "    </tr>\n",
       "    <tr>\n",
       "      <th>3</th>\n",
       "      <td>Latvia</td>\n",
       "      <td>29932.493910</td>\n",
       "      <td>5.9</td>\n",
       "    </tr>\n",
       "    <tr>\n",
       "      <th>2</th>\n",
       "      <td>Turkey</td>\n",
       "      <td>28384.987785</td>\n",
       "      <td>5.5</td>\n",
       "    </tr>\n",
       "    <tr>\n",
       "      <th>1</th>\n",
       "      <td>Greece</td>\n",
       "      <td>27287.083401</td>\n",
       "      <td>5.4</td>\n",
       "    </tr>\n",
       "    <tr>\n",
       "      <th>0</th>\n",
       "      <td>Russia</td>\n",
       "      <td>26456.387938</td>\n",
       "      <td>5.8</td>\n",
       "    </tr>\n",
       "  </tbody>\n",
       "</table>\n",
       "</div>"
      ],
      "text/plain": [
       "           Country  GDP per capita (USD)  Life satisfaction\n",
       "26   United States          60235.728492                6.9\n",
       "25         Denmark          55938.212809                7.6\n",
       "24     Netherlands          54209.563836                7.4\n",
       "23         Iceland          52279.728851                7.5\n",
       "22         Austria          51935.603862                7.1\n",
       "21         Germany          50922.358023                7.0\n",
       "20          Sweden          50683.323510                7.3\n",
       "19       Australia          48697.837028                7.3\n",
       "18         Belgium          48210.033111                6.9\n",
       "17         Finland          47260.800458                7.6\n",
       "16          Canada          45856.625626                7.4\n",
       "15     New Zealand          42404.393738                7.3\n",
       "14          France          42025.617373                6.5\n",
       "13  United Kingdom          41627.129269                6.8\n",
       "12           Italy          38992.148381                6.0\n",
       "11          Israel          38341.307570                7.2\n",
       "10       Lithuania          36732.034744                5.9\n",
       "9         Slovenia          36547.738956                5.9\n",
       "8            Spain          36215.447591                6.3\n",
       "7          Estonia          35638.421351                5.7\n",
       "6           Poland          32238.157259                6.1\n",
       "5         Portugal          32181.154537                5.4\n",
       "4          Hungary          31007.768407                5.6\n",
       "3           Latvia          29932.493910                5.9\n",
       "2           Turkey          28384.987785                5.5\n",
       "1           Greece          27287.083401                5.4\n",
       "0           Russia          26456.387938                5.8"
      ]
     },
     "execution_count": 44,
     "metadata": {},
     "output_type": "execute_result"
    }
   ],
   "source": [
    "df.sort_values(by=\"GDP per capita (USD)\", ascending=False)"
   ]
  },
  {
   "cell_type": "code",
   "execution_count": 45,
   "id": "86e2fbd5",
   "metadata": {
    "slideshow": {
     "slide_type": "slide"
    }
   },
   "outputs": [
    {
     "data": {
      "text/plain": [
       "Country                       Greece\n",
       "GDP per capita (USD)    27287.083401\n",
       "Life satisfaction                5.4\n",
       "Name: 1, dtype: object"
      ]
     },
     "execution_count": 45,
     "metadata": {},
     "output_type": "execute_result"
    }
   ],
   "source": [
    "# Accessing rows \n",
    "\n",
    "df.iloc[1,:]"
   ]
  },
  {
   "cell_type": "code",
   "execution_count": 46,
   "id": "dd6b8c24",
   "metadata": {
    "slideshow": {
     "slide_type": "fragment"
    }
   },
   "outputs": [
    {
     "data": {
      "text/html": [
       "<div>\n",
       "<style scoped>\n",
       "    .dataframe tbody tr th:only-of-type {\n",
       "        vertical-align: middle;\n",
       "    }\n",
       "\n",
       "    .dataframe tbody tr th {\n",
       "        vertical-align: top;\n",
       "    }\n",
       "\n",
       "    .dataframe thead th {\n",
       "        text-align: right;\n",
       "    }\n",
       "</style>\n",
       "<table border=\"1\" class=\"dataframe\">\n",
       "  <thead>\n",
       "    <tr style=\"text-align: right;\">\n",
       "      <th></th>\n",
       "      <th>Country</th>\n",
       "      <th>GDP per capita (USD)</th>\n",
       "      <th>Life satisfaction</th>\n",
       "    </tr>\n",
       "  </thead>\n",
       "  <tbody>\n",
       "    <tr>\n",
       "      <th>1</th>\n",
       "      <td>Greece</td>\n",
       "      <td>27287.083401</td>\n",
       "      <td>5.4</td>\n",
       "    </tr>\n",
       "  </tbody>\n",
       "</table>\n",
       "</div>"
      ],
      "text/plain": [
       "  Country  GDP per capita (USD)  Life satisfaction\n",
       "1  Greece          27287.083401                5.4"
      ]
     },
     "execution_count": 46,
     "metadata": {},
     "output_type": "execute_result"
    }
   ],
   "source": [
    "# Accessing rows \n",
    "\n",
    "df[df[\"Country\"] == 'Greece']"
   ]
  }
 ],
 "metadata": {
  "kernelspec": {
   "display_name": "Python 3 (ipykernel)",
   "language": "python",
   "name": "python3"
  },
  "language_info": {
   "codemirror_mode": {
    "name": "ipython",
    "version": 3
   },
   "file_extension": ".py",
   "mimetype": "text/x-python",
   "name": "python",
   "nbconvert_exporter": "python",
   "pygments_lexer": "ipython3",
   "version": "3.10.9"
  }
 },
 "nbformat": 4,
 "nbformat_minor": 5
}
