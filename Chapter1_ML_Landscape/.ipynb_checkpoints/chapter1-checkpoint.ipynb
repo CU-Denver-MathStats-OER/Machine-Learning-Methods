{
 "cells": [
  {
   "cell_type": "markdown",
   "id": "870cde38",
   "metadata": {
    "slideshow": {
     "slide_type": "slide"
    }
   },
   "source": [
    "## MATH 4388: Machine Learning Methods \n",
    "\n",
    "\n",
    "### Chapter 1: The Machine Learning Landscape\n",
    "\n",
    "### Overview \n",
    "\n",
    "* Definition of machine learning\n",
    "\n",
    "* Components and types of machine learning systems\n",
    "\n",
    "* Fundamental concepts behind machine learning\n",
    "\n",
    "* Challenges of machine learning\n",
    "\n",
    "* Review of two Python’s libraries: NumPy and Pandas\n",
    "    + Essential to learn scikit-learn (sklearn), which is the most popular library for machine learning in Python\n",
    "\n"
   ]
  },
  {
   "cell_type": "markdown",
   "id": "75587fd1",
   "metadata": {
    "slideshow": {
     "slide_type": "slide"
    }
   },
   "source": [
    "### Why use machine learning?\n",
    "<hr style=\"border:2px solid gray\">\n",
    "\n",
    "* Let's design a spam filtering system using traditional programming techniques \n",
    "    + Look for words or phrases, such as credit card and account number, to write a detection algorithm to flag suspicious emails as spam\n",
    "    + Drawbacks: Long list of complex rules, hard to maintain\n",
    "    \n",
    "* A spam filter based on machine learning aims to automatically learn which words and phrases are good predictors or inputs\n",
    "    + Benefits: easier to maintain, more accurate\n",
    "    + The examples that the system uses are called samples (training data set) \n",
    "\n",
    " "
   ]
  },
  {
   "cell_type": "markdown",
   "id": "44e7b2f7",
   "metadata": {
    "slideshow": {
     "slide_type": "slide"
    }
   },
   "source": [
    "### What is machine learning? \n",
    "<hr style=\"border:2px solid gray\">\n",
    "\n",
    "* Tom Mitchell: A computer program is said to learn from experience E with respect to some class of tasks T, and performance measure P, if its performance on T, as measured by P, improves with experience E\n",
    "    + Experience E refers to the \"data\" \n",
    "    + Task T is to identify suspicious/spam emails\n",
    "    + Performance P can be the classification accuracy (i.e., the proportion of correct predictions made by the model out of the total number of predictions)\n",
    "    \n",
    "* Therefore, machine learning is helpful for:\n",
    "    + Complex problems that traditionally require a long list of rules\n",
    "    + Changing/dynamic environments that require continuous updates\n",
    "    + Extracting patterns from large amounts of high-dimensional data\n",
    " "
   ]
  },
  {
   "cell_type": "markdown",
   "id": "117accf6",
   "metadata": {
    "slideshow": {
     "slide_type": "slide"
    }
   },
   "source": [
    "### Components of machine learning\n",
    "<hr style=\"border:2px solid gray\">\n",
    "\n",
    "* Data and Algorithms\n",
    "    + Different types of machine learning algorithms are appropriate for different tasks\n",
    "\n",
    "* Training\n",
    "    + Use an objective function that measures how well the model is performing\n",
    "\n",
    "* Evaluation\n",
    "    + Machine learning models should perform well on new/unseen data\n",
    "\n",
    "* Ethical considerations\n",
    "    + Bias, fairness, privacy, transparency, accountability, etc.\n"
   ]
  },
  {
   "cell_type": "markdown",
   "id": "24a68318",
   "metadata": {},
   "source": [
    "### Types of machine learning\n",
    "<hr style=\"border:2px solid gray\">\n",
    "\n",
    "* Machine learning systems can be categorized based on the *level of supervision* they receive during training. The level of supervision refers to the amount and type of labeled data to learn from. \n",
    "    + Supervised learning \n",
    "        - For each sample, there is an associated response, target, or label\n",
    "        - The model is \"supervised\" because it is provided with the correct output by a teacher\n",
    "    + Unsupervised learning\n",
    "        - For each sample, there is no label (i.e., no supervision)\n",
    "        - The goal is to discover hidden patterns or groupings in the data \n",
    "    + Semi-supervised learning\n",
    "        - A small amount of labeled data along with a larger amount of unlabeled data\n",
    "        - Thus, the data set is partially labeled \n",
    "    + Self-supervised learning\n",
    "        - The training data itself provides the supervision signal without external labels\n",
    "        - The main idea is to generate the labels from unlabeled data"
   ]
  },
  {
   "cell_type": "markdown",
   "id": "224b7f33",
   "metadata": {
    "slideshow": {
     "slide_type": "slide"
    }
   },
   "source": [
    "### Supervised learning (making predictions)\n",
    "\n",
    "<hr style=\"border:2px solid gray\">\n",
    "\n",
    "* Two types of supervised learning\n",
    "    + Regression (quantitative labels) \n",
    "    + Classification (qualitative or categorical labels)\n",
    "    \n",
    "<img src=\"supervised.png\" width=600 height=500 align=\"center\">\n",
    "\n"
   ]
  },
  {
   "cell_type": "markdown",
   "id": "dfbc265e",
   "metadata": {
    "slideshow": {
     "slide_type": "slide"
    }
   },
   "source": [
    "### Notation\n",
    "<hr style=\"border:2px solid gray\">\n",
    "\n",
    "* Supervised learning: learn a mapping or function $f$ from inputs (features/predictors) $\\mathbf{x}\\in\\mathcal{X}$ to outputs $\\mathbf{y}\\in\\mathcal{Y}$. The data set is given in the form of $N$ input-output pairs $\\mathcal{D}=\\{(\\mathbf{x}_n,\\mathbf{y}_n)\\}_{n=1}^N$\n",
    "    + $N$ is the sample size and the number of features is $D$, i.e., $\\mathcal{X}=\\mathbb{R}^D$\n",
    "    + Multi-class classification: $\\mathcal{Y}=\\{1,2,\\ldots, C\\}$\n",
    "    + If we have two classes only (binary classification):\n",
    "        + $\\mathcal{Y}=\\{0,1\\}$\n",
    "        + $\\mathcal{Y}=\\{-1,1\\}$\n",
    "    + We often make an assumption about the functional form or shape of $f$\n",
    "   "
   ]
  },
  {
   "cell_type": "markdown",
   "id": "87681037",
   "metadata": {
    "slideshow": {
     "slide_type": "slide"
    }
   },
   "source": [
    "### Model fitting/training\n",
    "<hr style=\"border:2px solid gray\">\n",
    "\n",
    "* Define *empirical risk* as the average loss on the training data (denote all unknown parameters by $\\boldsymbol{\\theta}$)\n",
    "\n",
    "$$ \\mathcal{L}(\\boldsymbol{\\theta}):=\\frac{1}{N}\\sum_{n=1}^N l(y_n, f(\\mathbf{x}_n;\\boldsymbol{\\theta}))$$\n",
    "\n",
    "where $l$ denotes the loss function\n",
    "* Example: zero-one loss $l(y, \\hat{y})=I(y\\neq \\hat{y})$, giving misclassification rate\n",
    "\n",
    "$$I(y\\neq \\hat{y})=\\begin{cases}1 & \\text{if } y\\neq \\hat{y}\\\\0 &\\text{if } y=\\hat{y} \\end{cases}$$"
   ]
  },
  {
   "cell_type": "markdown",
   "id": "75a0670a",
   "metadata": {
    "slideshow": {
     "slide_type": "slide"
    }
   },
   "source": [
    "### Model fitting/training\n",
    "<hr style=\"border:2px solid gray\">\n",
    "\n",
    "\n",
    "* Empirical risk minimization (ERM): find a setting of the parameters $\\boldsymbol{\\theta}$ that minimizes the empirical risk\n",
    "\n",
    "$$ \\underset{\\boldsymbol{\\theta}}{\\operatorname{argmin}} \\mathcal{L}(\\boldsymbol{\\theta})=\\underset{\\boldsymbol{\\theta}}{\\operatorname{argmin}} \\frac{1}{N}\\sum_{n=1}^N l(y_n, f(\\mathbf{x}_n;\\boldsymbol{\\theta}))$$\n",
    "\n",
    "* Let $\\boldsymbol{\\theta}^*$ denote the solution, the prediction model is $f(\\mathbf{x};\\boldsymbol{\\theta}^*)$ for any input $\\mathbf{x}$"
   ]
  },
  {
   "cell_type": "code",
   "execution_count": 1,
   "id": "64305e03",
   "metadata": {
    "slideshow": {
     "slide_type": "slide"
    }
   },
   "outputs": [
    {
     "data": {
      "image/png": "[encoded data removed]",
      "text/plain": [
       "<Figure size 400x300 with 1 Axes>"
      ]
     },
     "metadata": {},
     "output_type": "display_data"
    }
   ],
   "source": [
    "import numpy as np\n",
    "import matplotlib.pyplot as plt\n",
    "\n",
    "plt.rcParams.update({'font.size': 12, \"figure.figsize\": (4,3)})\n",
    "x = np.linspace(-3,2,100)\n",
    "y = x ** 2 + 2*x +3\n",
    "plt.plot(x,y)\n",
    "plt.plot(-1,2,'ro')\n",
    "plt.show()\n",
    "\n",
    "# What is the difference between min and argmin in this example? "
   ]
  },
  {
   "cell_type": "markdown",
   "id": "f17a3933",
   "metadata": {
    "slideshow": {
     "slide_type": "slide"
    }
   },
   "source": [
    "### Loss function for regression tasks\n",
    "<hr style=\"border:2px solid gray\">\n",
    "\n",
    "* Since the output is real-valued, the most common choice is to use quadratic loss\n",
    "$$l(y,\\hat{y})=(y-\\hat{y})^2$$\n",
    "\n",
    "* Empirical risk minimization\n",
    "$$MSE(\\boldsymbol{\\theta})=\\frac{1}{N}\\sum_{n=1}^N\\big(y_n - f(\\mathbf{x}_n;\\boldsymbol{\\theta})\\big)^2$$\n",
    "\n",
    "* Underlying assumption for linear regression \n",
    "$$f(\\mathbf{x};\\boldsymbol{\\theta})=w_0+w_1x_1+\\ldots+w_Dx_D=w_0+\\mathbf{w}^T\\mathbf{x}$$\n",
    "\n",
    "where $\\mathbf{w}=[w_1,\\ldots,w_D]\\in\\mathbb{R}^D$, $\\mathbf{x}=[x_1,\\ldots,x_D]\\in\\mathbb{R}^D$, $\\boldsymbol{\\theta}=\\{w_0,\\mathbf{w}\\}$"
   ]
  },
  {
   "cell_type": "markdown",
   "id": "bbcdfde9",
   "metadata": {
    "slideshow": {
     "slide_type": "slide"
    }
   },
   "source": [
    "### Parametric vs non-parametric model\n",
    "<hr style=\"border:2px solid gray\">\n",
    "\n",
    "* The model-based approach just described is referred to as parametric\n",
    "    + Reduces the problem of estimating $f$ down to one of estimating a set of parameters\n",
    "    + If the chosen model is too far from the reality, then our estimate will be poor\n",
    "\n",
    "* Non-parametric or instance-based learning methods do not make explicit assumptions about $f$\n",
    "\n",
    "\n",
    "<img src=\"parametric_model.png\" width=600 height=500 align=\"center\">\n"
   ]
  },
  {
   "cell_type": "markdown",
   "id": "51c74af7",
   "metadata": {},
   "source": [
    "### Challenges of machine learning\n",
    "<hr style=\"border:2px solid gray\">\n",
    "\n",
    "\n",
    "* Inadequate amounts of training data \n",
    "    * Some machine learning models require hundreds of thousands or millions of samples\n",
    "\n",
    "* Nonrepresentative, irrelevant, and poor-quality training data \n",
    "    * Noisy inputs, outliers, and errors present challenges for machine learning systems \n",
    "    \n",
    "* Overfitting the training data\n",
    "    * The model performs well on the training data, but it does not generalize well to new/unseen examples\n",
    "    * Possible remedies include reducing the number of model parameters, collecting more training data, and removing outliers \n",
    "    * Constraining a model to make it simpler is called regularization\n",
    "    \n",
    "* Underfitting the training data \n",
    "    * The model is too simple to learn the underlying patterns \n",
    "    * Therefore, the model does not perform well on the training data\n",
    "    * Possible remedies include selecting a more powerful model "
   ]
  },
  {
   "cell_type": "markdown",
   "id": "5ab05723",
   "metadata": {
    "slideshow": {
     "slide_type": "slide"
    }
   },
   "source": [
    "### Generalization\n",
    "\n",
    "<hr style=\"border:2px solid gray\">\n",
    "\n",
    "* Divide the data into training and test sets: $\\mathcal{D}_{\\text{train}}$ and $\\mathcal{D}_{\\text{test}}$ \n",
    "\n",
    "<img src=\"train_test.png\" width=300 height=200 align=\"right\">\n",
    "\n",
    "* Train your model using the training set and test it using the test set\n",
    "\n",
    "* Training risk: $\\mathcal{L}_{\\text{train}}:=\\frac{1}{|\\mathcal{D}_{\\text{train}}|}\\sum_{(\\mathbf{x},y)\\in\\mathcal{D}_{\\text{train}}}l(y,f(\\mathbf{x};\\boldsymbol{\\theta}))$\n",
    "\n",
    "* Test risk: $\\mathcal{L}_{\\text{test}}:=\\frac{1}{|\\mathcal{D}_{\\text{test}}|}\\sum_{(\\mathbf{x},y)\\in\\mathcal{D}_{\\text{test}}}l(y,f(\\mathbf{x};\\boldsymbol{\\theta}))$\n",
    "\n",
    "* Overfitting happens when $\\mathcal{L}_{\\text{test}}\\gg \\mathcal{L}_{\\text{train}}$\n",
    "\n",
    "\n"
   ]
  },
  {
   "cell_type": "markdown",
   "id": "fdebd9bc",
   "metadata": {
    "slideshow": {
     "slide_type": "slide"
    }
   },
   "source": [
    "### Hyperparameter tuning and model selection\n",
    "\n",
    "<hr style=\"border:2px solid gray\">\n",
    "\n",
    "* We should not measure the generalization error *multiple times* on the test set\n",
    "    * Otherwise, we find the best model for the designated test set (lack of generalization) \n",
    "    \n",
    "* There are two parts to solving a prediction problem\n",
    "    * model selection\n",
    "        + We estimate the performance of various competing models with the hope of choosing the best one for the validation or development set \n",
    "    * model assessment\n",
    "        + Having chosen the final model, we assess the model by estimating the the generalization error using the test set\n",
    "        \n",
    "<img src=\"model_selection.png\" width=400 height=400 align=\"center\">\n"
   ]
  },
  {
   "cell_type": "markdown",
   "id": "99e67bd9",
   "metadata": {
    "slideshow": {
     "slide_type": "slide"
    }
   },
   "source": [
    "### Review of Python libraries\n",
    "\n",
    "<hr style=\"border:2px solid gray\">\n",
    "\n",
    "* List, tuple, dictionary, for loop, if statement, and function \n",
    "* Object-oriented programming (OOP)\n",
    "    * How to define a class and create some objects\n",
    "* NumPy \n",
    "    * Represent vectors/matrices and perform linear algebra operations\n",
    "* Pandas \n",
    "    * Data structure containing labeled axes (rows and columns)\n"
   ]
  },
  {
   "cell_type": "code",
   "execution_count": 2,
   "id": "e6613639",
   "metadata": {
    "slideshow": {
     "slide_type": "slide"
    }
   },
   "outputs": [
    {
     "name": "stdout",
     "output_type": "stream",
     "text": [
      "[1, 'a', 5, 5.3] \n",
      " 4 \n",
      " 5 \n",
      " 5.3\n"
     ]
    }
   ],
   "source": [
    "#  List \n",
    "\n",
    "alist = [1, \"a\" , 5 , 5.3]\n",
    "\n",
    "print(alist, '\\n', len(alist), '\\n', alist[2], '\\n', alist[-1])"
   ]
  },
  {
   "cell_type": "code",
   "execution_count": 3,
   "id": "a13f4491",
   "metadata": {
    "slideshow": {
     "slide_type": "slide"
    }
   },
   "outputs": [
    {
     "name": "stdout",
     "output_type": "stream",
     "text": [
      "(1, 'a', 'string', 3) \t <class 'tuple'>\n",
      "a\n"
     ]
    }
   ],
   "source": [
    "# Tuples are just like lists with the exception that tuples cannot be changed once declared\n",
    "\n",
    "t = (1, \"a\", \"string\", 1+2)\n",
    "\n",
    "print(t, '\\t', type(t))\n",
    "\n",
    "print(t[1])"
   ]
  },
  {
   "cell_type": "code",
   "execution_count": 4,
   "id": "d56ad50e",
   "metadata": {
    "slideshow": {
     "slide_type": "slide"
    }
   },
   "outputs": [
    {
     "name": "stdout",
     "output_type": "stream",
     "text": [
      "{'fall': 50, 'spring': 80}\n",
      "50\n"
     ]
    }
   ],
   "source": [
    "# Dictionary holds key:value pairs\n",
    "# indexing is done with the help of keys\n",
    "\n",
    "d = {}\n",
    "\n",
    "d[\"fall\"] = 50 \n",
    "\n",
    "d[\"spring\"] = 80\n",
    "\n",
    "print(d)\n",
    "\n",
    "print(d[\"fall\"])"
   ]
  },
  {
   "cell_type": "code",
   "execution_count": 5,
   "id": "fa8428c4",
   "metadata": {
    "slideshow": {
     "slide_type": "slide"
    }
   },
   "outputs": [
    {
     "name": "stdout",
     "output_type": "stream",
     "text": [
      "1\n",
      "3\n",
      "5\n",
      "7\n",
      "9\n"
     ]
    }
   ],
   "source": [
    "# for loop \n",
    "\n",
    "alist = [1, 3, 5, 7, 9]\n",
    "\n",
    "# Method 1\n",
    "\n",
    "for item in alist:\n",
    "    \n",
    "    print(item)"
   ]
  },
  {
   "cell_type": "code",
   "execution_count": 6,
   "id": "f8cd4fee",
   "metadata": {
    "slideshow": {
     "slide_type": "slide"
    }
   },
   "outputs": [
    {
     "data": {
      "text/plain": [
       "[0, 1, 2, 3, 4]"
      ]
     },
     "execution_count": 6,
     "metadata": {},
     "output_type": "execute_result"
    }
   ],
   "source": [
    "list(range(len(alist)))"
   ]
  },
  {
   "cell_type": "code",
   "execution_count": 7,
   "id": "f264ee2a",
   "metadata": {
    "slideshow": {
     "slide_type": "fragment"
    }
   },
   "outputs": [
    {
     "name": "stdout",
     "output_type": "stream",
     "text": [
      "1\n",
      "3\n",
      "5\n",
      "7\n",
      "9\n"
     ]
    }
   ],
   "source": [
    "# Method 2 \n",
    "\n",
    "for index in range(len(alist)):\n",
    "    \n",
    "    print(alist[index])"
   ]
  },
  {
   "cell_type": "code",
   "execution_count": 8,
   "id": "1951fca9",
   "metadata": {
    "slideshow": {
     "slide_type": "slide"
    }
   },
   "outputs": [
    {
     "name": "stdout",
     "output_type": "stream",
     "text": [
      "Positive\n"
     ]
    }
   ],
   "source": [
    "# if statement\n",
    "\n",
    "x = 5\n",
    "\n",
    "if x < 0:\n",
    "    print('Negative')\n",
    "elif x == 0:\n",
    "    print('Zero')\n",
    "else:\n",
    "    print('Positive')"
   ]
  },
  {
   "cell_type": "code",
   "execution_count": 9,
   "id": "bd58c59e",
   "metadata": {
    "slideshow": {
     "slide_type": "slide"
    }
   },
   "outputs": [],
   "source": [
    "# defining functions \n",
    "\n",
    "def square(num):\n",
    "    num_new = num ** 2\n",
    "    return num_new"
   ]
  },
  {
   "cell_type": "code",
   "execution_count": 10,
   "id": "92e85513",
   "metadata": {
    "slideshow": {
     "slide_type": "fragment"
    }
   },
   "outputs": [
    {
     "name": "stdout",
     "output_type": "stream",
     "text": [
      "16\n"
     ]
    }
   ],
   "source": [
    "print(square(4))"
   ]
  },
  {
   "cell_type": "code",
   "execution_count": 11,
   "id": "88c1ee40",
   "metadata": {
    "slideshow": {
     "slide_type": "fragment"
    }
   },
   "outputs": [],
   "source": [
    "def square(num):\n",
    "    '''\n",
    "    Calculate a number raise to the power of 2.   \n",
    "    '''\n",
    "    # this is comment \n",
    "    num_new = num ** 2\n",
    "    return num_new"
   ]
  },
  {
   "cell_type": "code",
   "execution_count": 12,
   "id": "525e864b",
   "metadata": {
    "slideshow": {
     "slide_type": "slide"
    }
   },
   "outputs": [],
   "source": [
    "# More than one output \n",
    "\n",
    "def square_cube(num):\n",
    "    '''\n",
    "    Calculate a number raise to the power of 2\n",
    "    Calculate a number raise to the power of 3\n",
    "    '''\n",
    "    num_new1 = num ** 2\n",
    "    num_new2 = num ** 3\n",
    "    return num_new1, num_new2"
   ]
  },
  {
   "cell_type": "code",
   "execution_count": 13,
   "id": "159135b8",
   "metadata": {
    "slideshow": {
     "slide_type": "fragment"
    }
   },
   "outputs": [
    {
     "name": "stdout",
     "output_type": "stream",
     "text": [
      "(9, 27) <class 'tuple'>\n"
     ]
    }
   ],
   "source": [
    "result = square_cube(3)\n",
    "\n",
    "print(result, type(result))"
   ]
  },
  {
   "cell_type": "markdown",
   "id": "24a8fd9f",
   "metadata": {
    "slideshow": {
     "slide_type": "slide"
    }
   },
   "source": [
    "### Object-oriented programming (OOP)\n",
    "\n",
    "<hr style=\"border:2px solid gray\">\n",
    "\n",
    "* Ideal for building versatile and reusable tools/frameworks \n",
    "* Code as a collection and interaction of **objects**\n",
    "* Object: a data structure incorporating information about \n",
    "    + State: How the object looks or what properties it has\n",
    "    + Behavior: What the object does or how to operate on\n",
    "        + Python: State --> Attribute (variable), Behavior --> Method (function)\n",
    "* Class: Blueprint or template for objects outlining possible states and behaviors "
   ]
  },
  {
   "cell_type": "code",
   "execution_count": null,
   "id": "601df5bd",
   "metadata": {
    "slideshow": {
     "slide_type": "slide"
    }
   },
   "outputs": [],
   "source": [
    "class CUDenverStudent: \n",
    "    def set_name(self, new_name):\n",
    "        self.name = new_name \n",
    "        \n",
    "    def set_grade(self, new_grade):\n",
    "        self.grade = new_grade \n",
    "        \n",
    "    def give_bonus(self, amount):\n",
    "        self.grade += amount"
   ]
  },
  {
   "cell_type": "code",
   "execution_count": null,
   "id": "61e29918",
   "metadata": {
    "slideshow": {
     "slide_type": "fragment"
    }
   },
   "outputs": [],
   "source": [
    "student = CUDenverStudent()\n",
    "\n",
    "student.set_name(\"Sarah\")\n",
    "\n",
    "student.set_grade(93)\n",
    "\n",
    "print(student.grade)"
   ]
  },
  {
   "cell_type": "code",
   "execution_count": null,
   "id": "177657cc",
   "metadata": {
    "slideshow": {
     "slide_type": "slide"
    }
   },
   "outputs": [],
   "source": [
    "student.give_bonus(7)\n",
    "\n",
    "print(student.grade)"
   ]
  },
  {
   "cell_type": "code",
   "execution_count": null,
   "id": "2247dbcb",
   "metadata": {
    "slideshow": {
     "slide_type": "fragment"
    }
   },
   "outputs": [],
   "source": [
    "# Constructor __init__() method is called every time an object is created \n",
    "\n",
    "class CUDenverStudent: \n",
    "    def __init__(self, new_name, new_grade=0):\n",
    "        self.name = new_name \n",
    "        self.grade = new_grade\n",
    "        \n",
    "    def give_bonus(self, amount):\n",
    "        self.grade += amount"
   ]
  },
  {
   "cell_type": "code",
   "execution_count": null,
   "id": "470bb856",
   "metadata": {
    "slideshow": {
     "slide_type": "fragment"
    }
   },
   "outputs": [],
   "source": [
    "student = CUDenverStudent(new_name=\"Sarah\")\n",
    "\n",
    "print(student.name, student.grade)"
   ]
  },
  {
   "cell_type": "markdown",
   "id": "a5e44a11",
   "metadata": {
    "slideshow": {
     "slide_type": "slide"
    }
   },
   "source": [
    "### NumPy\n",
    "\n",
    "<hr style=\"border:2px solid gray\">\n",
    "\n",
    "* 1D (vector) and 2D arrays (matrix)\n",
    "$$\\mathbf{a}=\\begin{bmatrix}a_1\\\\a_2\\\\\\vdots\\\\a_n\\end{bmatrix}\\in\\mathbb{R}^n,\\;\\mathbf{A}=\\begin{bmatrix}a_{11}&\\ldots&a_{1m}\\\\\n",
    "\\vdots&&\\vdots\\\\a_{n1}&&a_{nm}\\end{bmatrix}\\in\\mathbb{R}^{n\\times m}$$\n"
   ]
  },
  {
   "cell_type": "code",
   "execution_count": null,
   "id": "49e4eed0",
   "metadata": {
    "slideshow": {
     "slide_type": "fragment"
    }
   },
   "outputs": [],
   "source": [
    "import numpy as np \n",
    "\n",
    "a = np.array([1,2,3,4])\n",
    "\n",
    "A = np.array([[1,2], [3,4]])\n",
    "\n",
    "print(a.shape, A.shape, type(a))"
   ]
  },
  {
   "cell_type": "code",
   "execution_count": null,
   "id": "65d2889d",
   "metadata": {},
   "outputs": [],
   "source": [
    "a.ndim"
   ]
  },
  {
   "cell_type": "code",
   "execution_count": null,
   "id": "f9fb6d76",
   "metadata": {},
   "outputs": [],
   "source": [
    "A.ndim"
   ]
  },
  {
   "cell_type": "code",
   "execution_count": null,
   "id": "dbbf4df6",
   "metadata": {
    "slideshow": {
     "slide_type": "slide"
    }
   },
   "outputs": [],
   "source": [
    "# reshape\n",
    "\n",
    "b = A.reshape(4,)\n",
    "\n",
    "print(b, b.shape)"
   ]
  },
  {
   "cell_type": "code",
   "execution_count": null,
   "id": "8387d9e8",
   "metadata": {
    "slideshow": {
     "slide_type": "fragment"
    }
   },
   "outputs": [],
   "source": [
    "# True if two arrays have the same shape and elements\n",
    "\n",
    "np.array_equal(a, b)"
   ]
  },
  {
   "cell_type": "code",
   "execution_count": null,
   "id": "df9e098e",
   "metadata": {
    "slideshow": {
     "slide_type": "fragment"
    }
   },
   "outputs": [],
   "source": [
    "# transpose a matrix by switching its rows with its columns\n",
    "\n",
    "print(A, '\\n\\n', np.transpose(A))"
   ]
  },
  {
   "cell_type": "code",
   "execution_count": null,
   "id": "5319df3c",
   "metadata": {},
   "outputs": [],
   "source": [
    "A.T"
   ]
  },
  {
   "cell_type": "code",
   "execution_count": null,
   "id": "5c468150",
   "metadata": {
    "slideshow": {
     "slide_type": "fragment"
    }
   },
   "outputs": [],
   "source": [
    "x = np.array([3, 4])\n",
    "\n",
    "from numpy import linalg # implementations of standard linear algebra algorithms\n",
    "\n",
    "print(linalg.norm(x))"
   ]
  },
  {
   "cell_type": "markdown",
   "id": "e2264f34",
   "metadata": {
    "slideshow": {
     "slide_type": "slide"
    }
   },
   "source": [
    "### Dot product or inner product\n",
    "<hr style=\"border:2px solid gray\">\n",
    "\n",
    "$$\\langle\\mathbf{x},\\mathbf{y}\\rangle=\\sum_{i=1}^n x_iy_i$$"
   ]
  },
  {
   "cell_type": "code",
   "execution_count": null,
   "id": "abd984ff",
   "metadata": {
    "slideshow": {
     "slide_type": "fragment"
    }
   },
   "outputs": [],
   "source": [
    "y = np.array([2,3])\n",
    "\n",
    "np.dot(x, y)"
   ]
  },
  {
   "cell_type": "code",
   "execution_count": null,
   "id": "0a82bd32",
   "metadata": {
    "slideshow": {
     "slide_type": "fragment"
    }
   },
   "outputs": [],
   "source": [
    "# norm of x squared \n",
    "np.dot(x, x)"
   ]
  },
  {
   "cell_type": "markdown",
   "id": "4c92aab8",
   "metadata": {
    "slideshow": {
     "slide_type": "slide"
    }
   },
   "source": [
    "### Matrix multiplication\n",
    "<hr style=\"border:2px solid gray\">\n",
    "\n",
    "* Method 1 \n",
    "$$\\begin{bmatrix}a_{11} & \\ldots & a_{1n}\\\\\\vdots & & \\vdots\\\\a_{m1}&\\ldots &a_{mn}\\end{bmatrix}\\begin{bmatrix}x_1\\\\\\vdots\\\\x_n\\end{bmatrix}=x_1\\begin{bmatrix}a_{11}\\\\\\vdots\\\\a_{m1}\\end{bmatrix}+\\ldots+x_n\\begin{bmatrix}a_{1n}\\\\\\vdots\\\\a_{mn}\\end{bmatrix}$$\n",
    "\n",
    "* Method 2\n",
    "$$\\begin{bmatrix}a_{11} & \\ldots & a_{1n}\\\\\\vdots & & \\vdots\\\\a_{m1}&\\ldots &a_{mn}\\end{bmatrix}\\begin{bmatrix}x_1\\\\\\vdots\\\\x_n\\end{bmatrix}=\\begin{bmatrix}\\sum_{i=1}^n a_{1i}x_i\\\\\\vdots\\\\\\sum_{i=1}^na_{mi}x_i\\end{bmatrix}$$"
   ]
  },
  {
   "cell_type": "code",
   "execution_count": null,
   "id": "89e70596",
   "metadata": {
    "slideshow": {
     "slide_type": "slide"
    }
   },
   "outputs": [],
   "source": [
    "A = np.array([[1,2,3],[4,5,6]])\n",
    "\n",
    "x = np.array([[2],[4],[5]]) \n",
    "\n",
    "z = np.matmul(A,x)\n",
    "\n",
    "print(z)"
   ]
  },
  {
   "cell_type": "markdown",
   "id": "c5776ca2",
   "metadata": {
    "slideshow": {
     "slide_type": "slide"
    }
   },
   "source": [
    "### Pandas\n",
    "<hr style=\"border:2px solid gray\">\n",
    "\n",
    "* Provides high performance, fast, easy-to-use data structures, and data analysis tools for manipulating tabular data\n",
    "\n",
    "* Dataframe\n",
    "    + A two dimensional data structure with columns of potentially different types"
   ]
  },
  {
   "cell_type": "code",
   "execution_count": null,
   "id": "d4f8191d",
   "metadata": {
    "slideshow": {
     "slide_type": "slide"
    }
   },
   "outputs": [],
   "source": [
    "# Read CSV File into Python using Pandas\n",
    "import numpy as np \n",
    "import pandas as pd\n",
    "\n",
    "# use this link \n",
    "#df = pd.read_csv(\"https://github.com/ageron/data/raw/main/lifesat/lifesat.csv\")\n",
    "\n",
    "# or, the existing data set \n",
    "df = pd.read_csv(\"life_satisfaction.csv\", index_col=0)\n",
    "                 \n",
    "df.head()"
   ]
  },
  {
   "cell_type": "code",
   "execution_count": null,
   "id": "f9f486c3",
   "metadata": {
    "slideshow": {
     "slide_type": "fragment"
    }
   },
   "outputs": [],
   "source": [
    "df.columns"
   ]
  },
  {
   "cell_type": "code",
   "execution_count": null,
   "id": "46606680",
   "metadata": {
    "slideshow": {
     "slide_type": "fragment"
    }
   },
   "outputs": [],
   "source": [
    "df.shape"
   ]
  },
  {
   "cell_type": "markdown",
   "id": "3338a67c",
   "metadata": {
    "slideshow": {
     "slide_type": "slide"
    }
   },
   "source": [
    "### Find inputs and outputs \n",
    "<hr style=\"border:2px solid gray\">\n",
    "\n",
    "* Can we predict the life satisfaction score based on the GDP of a country?\n",
    "\n",
    "<img src=\"Mlsystem.png\" width=400 height=400 align=\"center\">\n"
   ]
  },
  {
   "cell_type": "code",
   "execution_count": null,
   "id": "0de47514",
   "metadata": {
    "slideshow": {
     "slide_type": "fragment"
    }
   },
   "outputs": [],
   "source": [
    "X = df[[\"GDP per capita (USD)\"]].to_numpy()\n",
    "\n",
    "y = df[[\"Life satisfaction\"]].to_numpy()\n",
    "\n",
    "X.shape, y.shape"
   ]
  },
  {
   "cell_type": "code",
   "execution_count": null,
   "id": "b6d17f30",
   "metadata": {},
   "outputs": [],
   "source": [
    "X.ndim, y.ndim"
   ]
  },
  {
   "cell_type": "code",
   "execution_count": null,
   "id": "6b587f9e",
   "metadata": {},
   "outputs": [],
   "source": [
    "y = y.ravel()"
   ]
  },
  {
   "cell_type": "code",
   "execution_count": null,
   "id": "7314f43c",
   "metadata": {},
   "outputs": [],
   "source": [
    "y.shape"
   ]
  },
  {
   "cell_type": "code",
   "execution_count": null,
   "id": "503ac2c8",
   "metadata": {
    "slideshow": {
     "slide_type": "slide"
    }
   },
   "outputs": [],
   "source": [
    "import matplotlib.pyplot as plt \n",
    "\n",
    "plt.rcParams.update({'font.size': 12, \"figure.figsize\": (6,3)})\n",
    "plt.scatter(X, y, s=20)\n",
    "plt.xlabel('GDP')\n",
    "plt.ylabel('life satisfaction')\n",
    "plt.show()"
   ]
  },
  {
   "cell_type": "markdown",
   "id": "3f5dc9b6",
   "metadata": {
    "slideshow": {
     "slide_type": "slide"
    }
   },
   "source": [
    "### Using sklearn \n",
    "\n",
    "https://scikit-learn.org/stable/modules/generated/sklearn.linear_model.LinearRegression.html\n",
    "\n",
    "\n"
   ]
  },
  {
   "cell_type": "code",
   "execution_count": null,
   "id": "f5d7ad91",
   "metadata": {
    "slideshow": {
     "slide_type": "slide"
    }
   },
   "outputs": [],
   "source": [
    "from sklearn.linear_model import LinearRegression\n",
    "\n",
    "reg = LinearRegression()\n",
    "\n",
    "reg.fit(X, y)"
   ]
  },
  {
   "cell_type": "code",
   "execution_count": null,
   "id": "15064d3b",
   "metadata": {},
   "outputs": [],
   "source": [
    "print(reg.intercept_, reg.coef_)"
   ]
  },
  {
   "cell_type": "code",
   "execution_count": null,
   "id": "e119f70d",
   "metadata": {},
   "outputs": [],
   "source": [
    "plt.rcParams.update({'font.size': 12, \"figure.figsize\": (6,3)})\n",
    "plt.scatter(X, y, s=20)\n",
    "plt.plot([X.min(), X.max()],[X.min()*reg.coef_[0] + reg.intercept_, X.max()*reg.coef_[0] + reg.intercept_], 'r')\n",
    "plt.xlabel('GDP')\n",
    "plt.ylabel('life satisfaction')\n",
    "plt.show()"
   ]
  },
  {
   "cell_type": "code",
   "execution_count": null,
   "id": "9cd6e78c",
   "metadata": {
    "slideshow": {
     "slide_type": "slide"
    }
   },
   "outputs": [],
   "source": [
    "# Descriptive statistics\n",
    "\n",
    "df.describe()"
   ]
  },
  {
   "cell_type": "code",
   "execution_count": null,
   "id": "d1649020",
   "metadata": {
    "slideshow": {
     "slide_type": "slide"
    }
   },
   "outputs": [],
   "source": [
    "# Operations on DataFrame\n",
    "\n",
    "df[\"GDP per capita (USD)\"] > 45000"
   ]
  },
  {
   "cell_type": "code",
   "execution_count": null,
   "id": "fe76b487",
   "metadata": {
    "slideshow": {
     "slide_type": "slide"
    }
   },
   "outputs": [],
   "source": [
    "# select a subset of countries\n",
    "\n",
    "df[df[\"GDP per capita (USD)\"] > 45000]"
   ]
  },
  {
   "cell_type": "code",
   "execution_count": null,
   "id": "29ea2bea",
   "metadata": {
    "slideshow": {
     "slide_type": "slide"
    }
   },
   "outputs": [],
   "source": [
    "df.sort_values(by=\"GDP per capita (USD)\", ascending=False)"
   ]
  },
  {
   "cell_type": "code",
   "execution_count": null,
   "id": "86e2fbd5",
   "metadata": {
    "slideshow": {
     "slide_type": "slide"
    }
   },
   "outputs": [],
   "source": [
    "# Accessing rows \n",
    "\n",
    "df.iloc[1,:]"
   ]
  },
  {
   "cell_type": "code",
   "execution_count": null,
   "id": "dd6b8c24",
   "metadata": {
    "slideshow": {
     "slide_type": "fragment"
    }
   },
   "outputs": [],
   "source": [
    "# Accessing rows \n",
    "\n",
    "df[df[\"Country\"] == 'Greece']"
   ]
  }
 ],
 "metadata": {
  "kernelspec": {
   "display_name": "Python 3 (ipykernel)",
   "language": "python",
   "name": "python3"
  },
  "language_info": {
   "codemirror_mode": {
    "name": "ipython",
    "version": 3
   },
   "file_extension": ".py",
   "mimetype": "text/x-python",
   "name": "python",
   "nbconvert_exporter": "python",
   "pygments_lexer": "ipython3",
   "version": "3.10.9"
  }
 },
 "nbformat": 4,
 "nbformat_minor": 5
}
